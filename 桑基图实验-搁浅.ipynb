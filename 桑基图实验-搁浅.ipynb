{
 "cells": [
  {
   "cell_type": "code",
   "execution_count": null,
   "metadata": {},
   "outputs": [
    {
     "data": {
      "application/vnd.plotly.v1+json": {
       "config": {
        "plotlyServerURL": "https://plot.ly"
       },
       "data": [
        {
         "link": {
          "color": "rgba(173, 216, 230, 0.8)",
          "source": [
           0,
           0,
           0,
           0,
           0,
           0,
           0,
           1,
           1,
           2,
           2,
           2,
           3,
           3,
           4,
           4,
           4,
           4,
           5,
           5,
           5,
           5,
           5,
           5,
           5,
           6,
           6,
           6,
           6,
           7,
           7,
           8,
           8,
           8,
           8,
           8,
           9,
           9,
           9,
           10,
           10,
           10,
           10,
           29,
           14,
           16,
           17,
           18,
           25,
           26,
           27,
           28,
           30,
           32,
           31,
           33,
           12,
           34,
           35,
           43,
           44,
           15,
           11,
           24,
           13,
           19,
           20,
           21,
           22,
           23,
           40,
           41,
           42,
           36,
           37,
           38,
           39
          ],
          "target": [
           2,
           3,
           4,
           5,
           6,
           7,
           8,
           9,
           10,
           29,
           14,
           16,
           17,
           18,
           25,
           26,
           27,
           28,
           30,
           32,
           31,
           33,
           12,
           34,
           35,
           43,
           44,
           15,
           11,
           24,
           13,
           19,
           20,
           21,
           22,
           23,
           40,
           41,
           42,
           36,
           37,
           38,
           39,
           45,
           46,
           47,
           45,
           46,
           47,
           45,
           46,
           47,
           45,
           46,
           47,
           45,
           46,
           47,
           45,
           46,
           47,
           45,
           46,
           47,
           45,
           46,
           47,
           45,
           46,
           47,
           45,
           46,
           47,
           45,
           46,
           47,
           45,
           46,
           47,
           45,
           46,
           47,
           45,
           46,
           47,
           45,
           46,
           47,
           45,
           46,
           47,
           45,
           46,
           47,
           45,
           46,
           47,
           45,
           46,
           47,
           45,
           46,
           47,
           45,
           46,
           47,
           45,
           46,
           47,
           45,
           46,
           47,
           45,
           46,
           47,
           45,
           46,
           47,
           45,
           46,
           47,
           45,
           46,
           47,
           45,
           46,
           47,
           45,
           46,
           47,
           45,
           46,
           47,
           45,
           46,
           47,
           45,
           46,
           47,
           45,
           46,
           47,
           45,
           46,
           47
          ],
          "value": [
           68,
           64,
           27,
           53,
           48,
           39,
           127,
           29,
           44,
           11,
           45,
           12,
           33,
           31,
           7,
           9,
           2,
           9,
           2,
           2,
           6,
           1,
           15,
           18,
           9,
           3,
           35,
           4,
           6,
           27,
           12,
           22,
           11,
           45,
           23,
           26,
           6,
           10,
           13,
           10,
           11,
           10,
           13,
           4,
           6,
           1,
           21,
           14,
           10,
           4,
           4,
           4,
           8,
           15,
           10,
           12,
           13,
           6,
           0,
           5,
           2,
           1,
           6,
           2,
           1,
           1,
           0,
           1,
           5,
           3,
           1,
           0,
           1,
           0,
           2,
           0,
           1,
           5,
           0,
           0,
           1,
           0,
           2,
           11,
           2,
           10,
           6,
           2,
           4,
           3,
           2,
           1,
           1,
           1,
           10,
           13,
           12,
           1,
           3,
           0,
           1,
           5,
           0,
           8,
           14,
           5,
           1,
           7,
           4,
           2,
           15,
           5,
           2,
           6,
           3,
           18,
           10,
           17,
           3,
           11,
           9,
           5,
           14,
           7,
           3,
           3,
           0,
           3,
           3,
           4,
           5,
           6,
           2,
           4,
           4,
           2,
           5,
           6,
           0,
           4,
           6,
           0,
           8,
           3,
           2
          ]
         },
         "node": {
          "label": [
           "Human factors",
           "External factors",
           "H₁ Safety management issues",
           "H₂ Perception errors",
           "H₃ Violation of operating procedures",
           "H₄ Decision-making errors",
           "H₅ Human factors",
           "H₆ Improper crew arrangement",
           "H₇ Inadequate voyage planning",
           "E₁ Ship equipment factors",
           "E₂ Environmental factors",
           "R₁",
           "R₂",
           "R₃",
           "R₄",
           "R₅",
           "R₆",
           "R₇",
           "R₈",
           "R₉",
           "R₁₀",
           "R₁₁",
           "R₁₂",
           "R₁₃",
           "R₁₄",
           "R₁₅",
           "R₁₆",
           "R₁₇",
           "R₁₈",
           "R₁₉",
           "R₂₀",
           "R₂₁",
           "R₂₂",
           "R₂₃",
           "R₂₄",
           "R₂₅",
           "R₂₆",
           "R₂₇",
           "R₂₈",
           "R₂₉",
           "R₃₀",
           "R₃₁",
           "R₃₂",
           "R₃₃",
           "R₃₄",
           "S₁",
           "S₂",
           "S₃"
          ],
          "line": {
           "color": "black",
           "width": 0.5
          },
          "pad": 205,
          "thickness": 30
         },
         "type": "sankey"
        }
       ],
       "layout": {
        "font": {
         "family": "Times New Roman",
         "size": 14
        },
        "height": 800,
        "paper_bgcolor": "white",
        "template": {
         "data": {
          "bar": [
           {
            "error_x": {
             "color": "#2a3f5f"
            },
            "error_y": {
             "color": "#2a3f5f"
            },
            "marker": {
             "line": {
              "color": "#E5ECF6",
              "width": 0.5
             },
             "pattern": {
              "fillmode": "overlay",
              "size": 10,
              "solidity": 0.2
             }
            },
            "type": "bar"
           }
          ],
          "barpolar": [
           {
            "marker": {
             "line": {
              "color": "#E5ECF6",
              "width": 0.5
             },
             "pattern": {
              "fillmode": "overlay",
              "size": 10,
              "solidity": 0.2
             }
            },
            "type": "barpolar"
           }
          ],
          "carpet": [
           {
            "aaxis": {
             "endlinecolor": "#2a3f5f",
             "gridcolor": "white",
             "linecolor": "white",
             "minorgridcolor": "white",
             "startlinecolor": "#2a3f5f"
            },
            "baxis": {
             "endlinecolor": "#2a3f5f",
             "gridcolor": "white",
             "linecolor": "white",
             "minorgridcolor": "white",
             "startlinecolor": "#2a3f5f"
            },
            "type": "carpet"
           }
          ],
          "choropleth": [
           {
            "colorbar": {
             "outlinewidth": 0,
             "ticks": ""
            },
            "type": "choropleth"
           }
          ],
          "contour": [
           {
            "colorbar": {
             "outlinewidth": 0,
             "ticks": ""
            },
            "colorscale": [
             [
              0,
              "#0d0887"
             ],
             [
              0.1111111111111111,
              "#46039f"
             ],
             [
              0.2222222222222222,
              "#7201a8"
             ],
             [
              0.3333333333333333,
              "#9c179e"
             ],
             [
              0.4444444444444444,
              "#bd3786"
             ],
             [
              0.5555555555555556,
              "#d8576b"
             ],
             [
              0.6666666666666666,
              "#ed7953"
             ],
             [
              0.7777777777777778,
              "#fb9f3a"
             ],
             [
              0.8888888888888888,
              "#fdca26"
             ],
             [
              1,
              "#f0f921"
             ]
            ],
            "type": "contour"
           }
          ],
          "contourcarpet": [
           {
            "colorbar": {
             "outlinewidth": 0,
             "ticks": ""
            },
            "type": "contourcarpet"
           }
          ],
          "heatmap": [
           {
            "colorbar": {
             "outlinewidth": 0,
             "ticks": ""
            },
            "colorscale": [
             [
              0,
              "#0d0887"
             ],
             [
              0.1111111111111111,
              "#46039f"
             ],
             [
              0.2222222222222222,
              "#7201a8"
             ],
             [
              0.3333333333333333,
              "#9c179e"
             ],
             [
              0.4444444444444444,
              "#bd3786"
             ],
             [
              0.5555555555555556,
              "#d8576b"
             ],
             [
              0.6666666666666666,
              "#ed7953"
             ],
             [
              0.7777777777777778,
              "#fb9f3a"
             ],
             [
              0.8888888888888888,
              "#fdca26"
             ],
             [
              1,
              "#f0f921"
             ]
            ],
            "type": "heatmap"
           }
          ],
          "heatmapgl": [
           {
            "colorbar": {
             "outlinewidth": 0,
             "ticks": ""
            },
            "colorscale": [
             [
              0,
              "#0d0887"
             ],
             [
              0.1111111111111111,
              "#46039f"
             ],
             [
              0.2222222222222222,
              "#7201a8"
             ],
             [
              0.3333333333333333,
              "#9c179e"
             ],
             [
              0.4444444444444444,
              "#bd3786"
             ],
             [
              0.5555555555555556,
              "#d8576b"
             ],
             [
              0.6666666666666666,
              "#ed7953"
             ],
             [
              0.7777777777777778,
              "#fb9f3a"
             ],
             [
              0.8888888888888888,
              "#fdca26"
             ],
             [
              1,
              "#f0f921"
             ]
            ],
            "type": "heatmapgl"
           }
          ],
          "histogram": [
           {
            "marker": {
             "pattern": {
              "fillmode": "overlay",
              "size": 10,
              "solidity": 0.2
             }
            },
            "type": "histogram"
           }
          ],
          "histogram2d": [
           {
            "colorbar": {
             "outlinewidth": 0,
             "ticks": ""
            },
            "colorscale": [
             [
              0,
              "#0d0887"
             ],
             [
              0.1111111111111111,
              "#46039f"
             ],
             [
              0.2222222222222222,
              "#7201a8"
             ],
             [
              0.3333333333333333,
              "#9c179e"
             ],
             [
              0.4444444444444444,
              "#bd3786"
             ],
             [
              0.5555555555555556,
              "#d8576b"
             ],
             [
              0.6666666666666666,
              "#ed7953"
             ],
             [
              0.7777777777777778,
              "#fb9f3a"
             ],
             [
              0.8888888888888888,
              "#fdca26"
             ],
             [
              1,
              "#f0f921"
             ]
            ],
            "type": "histogram2d"
           }
          ],
          "histogram2dcontour": [
           {
            "colorbar": {
             "outlinewidth": 0,
             "ticks": ""
            },
            "colorscale": [
             [
              0,
              "#0d0887"
             ],
             [
              0.1111111111111111,
              "#46039f"
             ],
             [
              0.2222222222222222,
              "#7201a8"
             ],
             [
              0.3333333333333333,
              "#9c179e"
             ],
             [
              0.4444444444444444,
              "#bd3786"
             ],
             [
              0.5555555555555556,
              "#d8576b"
             ],
             [
              0.6666666666666666,
              "#ed7953"
             ],
             [
              0.7777777777777778,
              "#fb9f3a"
             ],
             [
              0.8888888888888888,
              "#fdca26"
             ],
             [
              1,
              "#f0f921"
             ]
            ],
            "type": "histogram2dcontour"
           }
          ],
          "mesh3d": [
           {
            "colorbar": {
             "outlinewidth": 0,
             "ticks": ""
            },
            "type": "mesh3d"
           }
          ],
          "parcoords": [
           {
            "line": {
             "colorbar": {
              "outlinewidth": 0,
              "ticks": ""
             }
            },
            "type": "parcoords"
           }
          ],
          "pie": [
           {
            "automargin": true,
            "type": "pie"
           }
          ],
          "scatter": [
           {
            "fillpattern": {
             "fillmode": "overlay",
             "size": 10,
             "solidity": 0.2
            },
            "type": "scatter"
           }
          ],
          "scatter3d": [
           {
            "line": {
             "colorbar": {
              "outlinewidth": 0,
              "ticks": ""
             }
            },
            "marker": {
             "colorbar": {
              "outlinewidth": 0,
              "ticks": ""
             }
            },
            "type": "scatter3d"
           }
          ],
          "scattercarpet": [
           {
            "marker": {
             "colorbar": {
              "outlinewidth": 0,
              "ticks": ""
             }
            },
            "type": "scattercarpet"
           }
          ],
          "scattergeo": [
           {
            "marker": {
             "colorbar": {
              "outlinewidth": 0,
              "ticks": ""
             }
            },
            "type": "scattergeo"
           }
          ],
          "scattergl": [
           {
            "marker": {
             "colorbar": {
              "outlinewidth": 0,
              "ticks": ""
             }
            },
            "type": "scattergl"
           }
          ],
          "scattermapbox": [
           {
            "marker": {
             "colorbar": {
              "outlinewidth": 0,
              "ticks": ""
             }
            },
            "type": "scattermapbox"
           }
          ],
          "scatterpolar": [
           {
            "marker": {
             "colorbar": {
              "outlinewidth": 0,
              "ticks": ""
             }
            },
            "type": "scatterpolar"
           }
          ],
          "scatterpolargl": [
           {
            "marker": {
             "colorbar": {
              "outlinewidth": 0,
              "ticks": ""
             }
            },
            "type": "scatterpolargl"
           }
          ],
          "scatterternary": [
           {
            "marker": {
             "colorbar": {
              "outlinewidth": 0,
              "ticks": ""
             }
            },
            "type": "scatterternary"
           }
          ],
          "surface": [
           {
            "colorbar": {
             "outlinewidth": 0,
             "ticks": ""
            },
            "colorscale": [
             [
              0,
              "#0d0887"
             ],
             [
              0.1111111111111111,
              "#46039f"
             ],
             [
              0.2222222222222222,
              "#7201a8"
             ],
             [
              0.3333333333333333,
              "#9c179e"
             ],
             [
              0.4444444444444444,
              "#bd3786"
             ],
             [
              0.5555555555555556,
              "#d8576b"
             ],
             [
              0.6666666666666666,
              "#ed7953"
             ],
             [
              0.7777777777777778,
              "#fb9f3a"
             ],
             [
              0.8888888888888888,
              "#fdca26"
             ],
             [
              1,
              "#f0f921"
             ]
            ],
            "type": "surface"
           }
          ],
          "table": [
           {
            "cells": {
             "fill": {
              "color": "#EBF0F8"
             },
             "line": {
              "color": "white"
             }
            },
            "header": {
             "fill": {
              "color": "#C8D4E3"
             },
             "line": {
              "color": "white"
             }
            },
            "type": "table"
           }
          ]
         },
         "layout": {
          "annotationdefaults": {
           "arrowcolor": "#2a3f5f",
           "arrowhead": 0,
           "arrowwidth": 1
          },
          "autotypenumbers": "strict",
          "coloraxis": {
           "colorbar": {
            "outlinewidth": 0,
            "ticks": ""
           }
          },
          "colorscale": {
           "diverging": [
            [
             0,
             "#8e0152"
            ],
            [
             0.1,
             "#c51b7d"
            ],
            [
             0.2,
             "#de77ae"
            ],
            [
             0.3,
             "#f1b6da"
            ],
            [
             0.4,
             "#fde0ef"
            ],
            [
             0.5,
             "#f7f7f7"
            ],
            [
             0.6,
             "#e6f5d0"
            ],
            [
             0.7,
             "#b8e186"
            ],
            [
             0.8,
             "#7fbc41"
            ],
            [
             0.9,
             "#4d9221"
            ],
            [
             1,
             "#276419"
            ]
           ],
           "sequential": [
            [
             0,
             "#0d0887"
            ],
            [
             0.1111111111111111,
             "#46039f"
            ],
            [
             0.2222222222222222,
             "#7201a8"
            ],
            [
             0.3333333333333333,
             "#9c179e"
            ],
            [
             0.4444444444444444,
             "#bd3786"
            ],
            [
             0.5555555555555556,
             "#d8576b"
            ],
            [
             0.6666666666666666,
             "#ed7953"
            ],
            [
             0.7777777777777778,
             "#fb9f3a"
            ],
            [
             0.8888888888888888,
             "#fdca26"
            ],
            [
             1,
             "#f0f921"
            ]
           ],
           "sequentialminus": [
            [
             0,
             "#0d0887"
            ],
            [
             0.1111111111111111,
             "#46039f"
            ],
            [
             0.2222222222222222,
             "#7201a8"
            ],
            [
             0.3333333333333333,
             "#9c179e"
            ],
            [
             0.4444444444444444,
             "#bd3786"
            ],
            [
             0.5555555555555556,
             "#d8576b"
            ],
            [
             0.6666666666666666,
             "#ed7953"
            ],
            [
             0.7777777777777778,
             "#fb9f3a"
            ],
            [
             0.8888888888888888,
             "#fdca26"
            ],
            [
             1,
             "#f0f921"
            ]
           ]
          },
          "colorway": [
           "#636efa",
           "#EF553B",
           "#00cc96",
           "#ab63fa",
           "#FFA15A",
           "#19d3f3",
           "#FF6692",
           "#B6E880",
           "#FF97FF",
           "#FECB52"
          ],
          "font": {
           "color": "#2a3f5f"
          },
          "geo": {
           "bgcolor": "white",
           "lakecolor": "white",
           "landcolor": "#E5ECF6",
           "showlakes": true,
           "showland": true,
           "subunitcolor": "white"
          },
          "hoverlabel": {
           "align": "left"
          },
          "hovermode": "closest",
          "mapbox": {
           "style": "light"
          },
          "paper_bgcolor": "white",
          "plot_bgcolor": "#E5ECF6",
          "polar": {
           "angularaxis": {
            "gridcolor": "white",
            "linecolor": "white",
            "ticks": ""
           },
           "bgcolor": "#E5ECF6",
           "radialaxis": {
            "gridcolor": "white",
            "linecolor": "white",
            "ticks": ""
           }
          },
          "scene": {
           "xaxis": {
            "backgroundcolor": "#E5ECF6",
            "gridcolor": "white",
            "gridwidth": 2,
            "linecolor": "white",
            "showbackground": true,
            "ticks": "",
            "zerolinecolor": "white"
           },
           "yaxis": {
            "backgroundcolor": "#E5ECF6",
            "gridcolor": "white",
            "gridwidth": 2,
            "linecolor": "white",
            "showbackground": true,
            "ticks": "",
            "zerolinecolor": "white"
           },
           "zaxis": {
            "backgroundcolor": "#E5ECF6",
            "gridcolor": "white",
            "gridwidth": 2,
            "linecolor": "white",
            "showbackground": true,
            "ticks": "",
            "zerolinecolor": "white"
           }
          },
          "shapedefaults": {
           "line": {
            "color": "#2a3f5f"
           }
          },
          "ternary": {
           "aaxis": {
            "gridcolor": "white",
            "linecolor": "white",
            "ticks": ""
           },
           "baxis": {
            "gridcolor": "white",
            "linecolor": "white",
            "ticks": ""
           },
           "bgcolor": "#E5ECF6",
           "caxis": {
            "gridcolor": "white",
            "linecolor": "white",
            "ticks": ""
           }
          },
          "title": {
           "x": 0.05
          },
          "xaxis": {
           "automargin": true,
           "gridcolor": "white",
           "linecolor": "white",
           "ticks": "",
           "title": {
            "standoff": 15
           },
           "zerolinecolor": "white",
           "zerolinewidth": 2
          },
          "yaxis": {
           "automargin": true,
           "gridcolor": "white",
           "linecolor": "white",
           "ticks": "",
           "title": {
            "standoff": 15
           },
           "zerolinecolor": "white",
           "zerolinewidth": 2
          }
         }
        },
        "width": 1000
       }
      }
     },
     "metadata": {},
     "output_type": "display_data"
    }
   ],
   "source": [
    "\n",
    "\n",
    "\n",
    "import plotly.graph_objects as go\n",
    "\n",
    "# 定义节点标签（IS 编号使用 Unicode 下标）\n",
    "\n",
    "nodes = [\n",
    "    \"Human factors\",\"External factors\", \n",
    "    \"H₁ Safety management issues\", \"H₂ Perception errors\", \n",
    "    \"H₃ Violation of operating procedures\", \"H₄ Decision-making errors\", \n",
    "    \"H₅ Human factors\", \"H₆ Improper crew arrangement\", \n",
    "    \"H₇ Inadequate voyage planning\", \"E₁ Ship equipment factors\", \n",
    "    \"E₂ Environmental factors\",\"R₁\", \"R₂\", \"R₃\", \"R₄\", \"R₅\", \"R₆\", \n",
    "    \"R₇\", \"R₈\", \"R₉\", \"R₁₀\", \"R₁₁\", \"R₁₂\", \"R₁₃\", \"R₁₄\", \"R₁₅\", \"R₁₆\",\n",
    "    \"R₁₇\", \"R₁₈\", \"R₁₉\", \"R₂₀\", \"R₂₁\", \"R₂₂\", \"R₂₃\", \"R₂₄\", \"R₂₅\", \n",
    "    \"R₂₆\", \"R₂₇\", \"R₂₈\", \"R₂₉\", \"R₃₀\", \"R₃₁\", \"R₃₂\", \"R₃₃\", \"R₃₄\",\n",
    "    \"S₁\", \"S₂\", \"S₃\"\n",
    "\n",
    "]\n",
    "\n",
    "\n",
    "# 定义连接的来源（source）和目标（target）索引\n",
    "links = {\n",
    "    \"source\": [\n",
    "        # 第一层到第二层\n",
    "        0, 0, 0, 0, 0, 0, 0, 1, 1,\n",
    "        # 第二层到第三层\n",
    "        2, 2, 2, 3, 3, \n",
    "        4, 4, 4, 4, 5, 5, 5, 5, 5, 5, 5,\n",
    "        6, 6, 6, 6, 7, 7, \n",
    "        8,8,8,8,8, 9,9,9,\n",
    "        10, 10, 10,10,\n",
    "        # 第三层到第四层（每个R节点依次连接到S1/S2/S3）\n",
    "        # R19,14,6 -> S1/S2/S3\n",
    "        29,14,16,\n",
    "        # R7,8 -> S1/S2/S3\n",
    "        17,18,\n",
    "        # R15,16,17,18 -> S1/S2/S3\n",
    "        25,26,27,28,\n",
    "        # R20,2,21,23,2,24,25 -> S1/S2/S3\n",
    "        30,32,31,33,12,34,35,\n",
    "        # R33,34,5,1 -> S1/S2/S3\n",
    "        43,44,15,11,\n",
    "        24,13,\n",
    "        19,20,21,22,23,\n",
    "        40,41,42,\n",
    "        36,37,38,39\n",
    "     ],\n",
    "    \"target\": [\n",
    "        # 第一层到第二层\n",
    "        2, 3, 4, 5, 6, 7, 8, 9,10,\n",
    "        # 第二层到第三层\n",
    "        29,14,16,\n",
    "        17,18,\n",
    "        25,26,27,28,\n",
    "        30,32,31,33,12,34,35,\n",
    "        43,44,15,11,\n",
    "        24,13,\n",
    "        19,20,21,22,23,\n",
    "        40,41,42,\n",
    "        36,37,38,39,\n",
    "\n",
    "        # 第三层到第四层\n",
    "    # ] + sum([[45, 46, 47] for _ in range(9, 43)], []),\n",
    "    ] + [45, 46, 47]*34,\n",
    "    \n",
    "    \"value\": [\n",
    "        # 第一层到第二层 --需更新\n",
    "        68, 64, 27, 53, 48, 39, 127, 29, 44,\n",
    "        # 第二层到第三层--需更新\n",
    "        11, 45, 12, \n",
    "        33, 31,\n",
    "        7, 9, 2, 9, \n",
    "        2, 2, 6, 1, 15, 18, 9,\n",
    "        3, 35, 4, 6,\n",
    "        27, 12,\n",
    "        22, 11, 45, 23, 26,\n",
    "        6, 10, 13,\n",
    "        10, 11, 10, 13,\n",
    "        # 第三层到第四层（S1, S2, S3）\n",
    "        4,6,1,\n",
    "        21,14,10,\n",
    "        4,4,4,\n",
    "        8,15,10,\n",
    "        12,13,6,\n",
    "        0,5,2,\n",
    "        1,6,2,\n",
    "        1,1,0,\n",
    "        1,5,3,\n",
    "        1,0,1,\n",
    "        0,2, 0,\n",
    "        1, 5, 0,\n",
    "        0, 1, 0,\n",
    "        2, 11, 2,\n",
    "        10, 6, 2, \n",
    "        4, 3, 2,  \n",
    "        1, 1, 1,\n",
    "        10, 13, 12,\n",
    "        1, 3, 0,\n",
    "        1, 5, 0, \n",
    "        8, 14, 5, \n",
    "        1, 7, 4, \n",
    "        2, 15, 5, \n",
    "        2, 6, 3, \n",
    "        18, 10, 17, \n",
    "        3, 11, 9, \n",
    "        5, 14, 7, \n",
    "        3, 3, 0, \n",
    "        3, 3, 4, \n",
    "        5, 6, 2, \n",
    "        4, 4, 2, \n",
    "        5, 6, 0, \n",
    "        4, 6, 0, \n",
    "        8, 3, 2\n",
    "\n",
    "\n",
    "    ]\n",
    "}\n",
    "\n",
    "\n",
    "# 创建桑基图\n",
    "fig = go.Figure(go.Sankey(\n",
    "    node=dict(\n",
    "        pad=205,  # 增大间距，避免压盖\n",
    "        thickness=30,  # 调整节点厚度\n",
    "        line=dict(color=\"black\", width=0.5),\n",
    "        label=nodes\n",
    "    ),\n",
    "    link=dict(\n",
    "        source=links[\"source\"],\n",
    "        target=links[\"target\"],\n",
    "        value=links[\"value\"],\n",
    "        color=\"rgba(173, 216, 230, 0.8)\"  # 设置淡蓝色，透明度50%\n",
    "    )\n",
    "))\n",
    "\n",
    "# 设置布局\n",
    "fig.update_layout(\n",
    "    # title_text=\"Four-layer Sankey Diagram with Adjusted Node Spacing\",\n",
    "    font_size=12,\n",
    "    paper_bgcolor=\"white\",\n",
    "    width=1000,  # 增加图的宽度\n",
    "    height=800,   # 可适当调整高度\n",
    "    font=dict(family=\"Times New Roman\", size=14)  # 字体大小\n",
    ")\n",
    "# 保存 PDF\n",
    "fig.write_image(\"桑基图.pdf\", engine='kaleido',scale= 1.5)\n",
    "# 显示图表\n",
    "fig.show()\n"
   ]
  },
  {
   "cell_type": "code",
   "execution_count": null,
   "metadata": {},
   "outputs": [
    {
     "data": {
      "application/vnd.plotly.v1+json": {
       "config": {
        "plotlyServerURL": "https://plot.ly"
       },
       "data": [
        {
         "link": {
          "color": "rgba(173, 216, 230, 0.8)",
          "source": [
           0,
           0,
           0,
           0,
           0,
           0,
           0,
           1,
           1,
           2,
           2,
           2,
           3,
           3,
           4,
           4,
           4,
           4,
           5,
           5,
           5,
           5,
           5,
           5,
           5,
           6,
           6,
           6,
           6,
           7,
           7,
           8,
           8,
           8,
           8,
           8,
           9,
           9,
           9,
           10,
           10,
           10,
           10,
           29,
           14,
           16,
           17,
           18,
           25,
           26,
           27,
           28,
           30,
           32,
           31,
           33,
           12,
           34,
           35,
           43,
           44,
           15,
           11,
           24,
           13,
           19,
           20,
           21,
           22,
           23,
           40,
           41,
           42,
           36,
           37,
           38,
           39
          ],
          "target": [
           2,
           3,
           4,
           5,
           6,
           7,
           8,
           9,
           10,
           29,
           14,
           16,
           17,
           18,
           25,
           26,
           27,
           28,
           30,
           32,
           31,
           33,
           12,
           34,
           35,
           43,
           44,
           15,
           11,
           24,
           13,
           19,
           20,
           21,
           22,
           23,
           40,
           41,
           42,
           36,
           37,
           38,
           39,
           45,
           46,
           47,
           45,
           46,
           47,
           45,
           46,
           47,
           45,
           46,
           47,
           45,
           46,
           47,
           45,
           46,
           47,
           45,
           46,
           47,
           45,
           46,
           47,
           45,
           46,
           47,
           45,
           46,
           47,
           45,
           46,
           47,
           45,
           46,
           47,
           45,
           46,
           47,
           45,
           46,
           47,
           45,
           46,
           47,
           45,
           46,
           47,
           45,
           46,
           47,
           45,
           46,
           47,
           45,
           46,
           47,
           45,
           46,
           47,
           45,
           46,
           47,
           45,
           46,
           47,
           45,
           46,
           47,
           45,
           46,
           47,
           45,
           46,
           47,
           45,
           46,
           47,
           45,
           46,
           47,
           45,
           46,
           47,
           45,
           46,
           47,
           45,
           46,
           47,
           45,
           46,
           47,
           45,
           46,
           47,
           45,
           46,
           47,
           45,
           46,
           47
          ],
          "value": [
           68,
           64,
           27,
           53,
           48,
           39,
           127,
           29,
           44,
           11,
           45,
           12,
           33,
           31,
           7,
           9,
           2,
           9,
           2,
           2,
           6,
           1,
           15,
           18,
           9,
           3,
           35,
           4,
           6,
           27,
           12,
           22,
           11,
           45,
           23,
           26,
           6,
           10,
           13,
           10,
           11,
           10,
           13,
           4,
           6,
           1,
           21,
           14,
           10,
           4,
           4,
           4,
           8,
           15,
           10,
           12,
           13,
           6,
           0.5,
           5,
           2,
           1,
           6,
           2,
           1,
           1,
           0.5,
           1,
           5,
           3,
           1,
           0.5,
           1,
           0.5,
           2,
           0.5,
           1,
           5,
           0.5,
           0,
           1,
           0.5,
           2,
           11,
           2,
           10,
           6,
           2,
           4,
           3,
           2,
           1,
           1,
           1,
           10,
           13,
           12,
           1,
           3,
           0.5,
           1,
           5,
           0.5,
           8,
           14,
           5,
           1,
           7,
           4,
           2,
           15,
           5,
           2,
           6,
           3,
           18,
           10,
           17,
           3,
           11,
           9,
           5,
           14,
           7,
           3,
           3,
           0.5,
           3,
           3,
           4,
           5,
           6,
           2,
           4,
           4,
           2,
           5,
           6,
           0.5,
           4,
           6,
           0.5,
           8,
           3,
           2
          ]
         },
         "node": {
          "label": [
           "Human factors",
           "External factors",
           "H₁ Safety management issues",
           "H₂ Perception errors",
           "H₃ Violation of operating procedures",
           "H₄ Decision-making errors",
           "H₅ Human factors",
           "H₆ Improper crew arrangement",
           "H₇ Inadequate voyage planning",
           "E₁ Ship equipment factors",
           "E₂ Environmental factors",
           "R₁",
           "R₂",
           "R₃",
           "R₄",
           "R₅",
           "R₆",
           "R₇",
           "R₈",
           "R₉",
           "R₁₀",
           "R₁₁",
           "R₁₂",
           "R₁₃",
           "R₁₄",
           "R₁₅",
           "R₁₆",
           "R₁₇",
           "R₁₈",
           "R₁₉",
           "R₂₀",
           "R₂₁",
           "R₂₂",
           "R₂₃",
           "R₂₄",
           "R₂₅",
           "R₂₆",
           "R₂₇",
           "R₂₈",
           "R₂₉",
           "R₃₀",
           "R₃₁",
           "R₃₂",
           "R₃₃",
           "R₃₄",
           "S₁",
           "S₂",
           "S₃"
          ],
          "line": {
           "color": "black",
           "width": 0.5
          },
          "pad": 205,
          "thickness": 30
         },
         "type": "sankey"
        }
       ],
       "layout": {
        "font": {
         "family": "Times New Roman",
         "size": 14
        },
        "height": 800,
        "paper_bgcolor": "white",
        "template": {
         "data": {
          "bar": [
           {
            "error_x": {
             "color": "#2a3f5f"
            },
            "error_y": {
             "color": "#2a3f5f"
            },
            "marker": {
             "line": {
              "color": "#E5ECF6",
              "width": 0.5
             },
             "pattern": {
              "fillmode": "overlay",
              "size": 10,
              "solidity": 0.2
             }
            },
            "type": "bar"
           }
          ],
          "barpolar": [
           {
            "marker": {
             "line": {
              "color": "#E5ECF6",
              "width": 0.5
             },
             "pattern": {
              "fillmode": "overlay",
              "size": 10,
              "solidity": 0.2
             }
            },
            "type": "barpolar"
           }
          ],
          "carpet": [
           {
            "aaxis": {
             "endlinecolor": "#2a3f5f",
             "gridcolor": "white",
             "linecolor": "white",
             "minorgridcolor": "white",
             "startlinecolor": "#2a3f5f"
            },
            "baxis": {
             "endlinecolor": "#2a3f5f",
             "gridcolor": "white",
             "linecolor": "white",
             "minorgridcolor": "white",
             "startlinecolor": "#2a3f5f"
            },
            "type": "carpet"
           }
          ],
          "choropleth": [
           {
            "colorbar": {
             "outlinewidth": 0,
             "ticks": ""
            },
            "type": "choropleth"
           }
          ],
          "contour": [
           {
            "colorbar": {
             "outlinewidth": 0,
             "ticks": ""
            },
            "colorscale": [
             [
              0,
              "#0d0887"
             ],
             [
              0.1111111111111111,
              "#46039f"
             ],
             [
              0.2222222222222222,
              "#7201a8"
             ],
             [
              0.3333333333333333,
              "#9c179e"
             ],
             [
              0.4444444444444444,
              "#bd3786"
             ],
             [
              0.5555555555555556,
              "#d8576b"
             ],
             [
              0.6666666666666666,
              "#ed7953"
             ],
             [
              0.7777777777777778,
              "#fb9f3a"
             ],
             [
              0.8888888888888888,
              "#fdca26"
             ],
             [
              1,
              "#f0f921"
             ]
            ],
            "type": "contour"
           }
          ],
          "contourcarpet": [
           {
            "colorbar": {
             "outlinewidth": 0,
             "ticks": ""
            },
            "type": "contourcarpet"
           }
          ],
          "heatmap": [
           {
            "colorbar": {
             "outlinewidth": 0,
             "ticks": ""
            },
            "colorscale": [
             [
              0,
              "#0d0887"
             ],
             [
              0.1111111111111111,
              "#46039f"
             ],
             [
              0.2222222222222222,
              "#7201a8"
             ],
             [
              0.3333333333333333,
              "#9c179e"
             ],
             [
              0.4444444444444444,
              "#bd3786"
             ],
             [
              0.5555555555555556,
              "#d8576b"
             ],
             [
              0.6666666666666666,
              "#ed7953"
             ],
             [
              0.7777777777777778,
              "#fb9f3a"
             ],
             [
              0.8888888888888888,
              "#fdca26"
             ],
             [
              1,
              "#f0f921"
             ]
            ],
            "type": "heatmap"
           }
          ],
          "heatmapgl": [
           {
            "colorbar": {
             "outlinewidth": 0,
             "ticks": ""
            },
            "colorscale": [
             [
              0,
              "#0d0887"
             ],
             [
              0.1111111111111111,
              "#46039f"
             ],
             [
              0.2222222222222222,
              "#7201a8"
             ],
             [
              0.3333333333333333,
              "#9c179e"
             ],
             [
              0.4444444444444444,
              "#bd3786"
             ],
             [
              0.5555555555555556,
              "#d8576b"
             ],
             [
              0.6666666666666666,
              "#ed7953"
             ],
             [
              0.7777777777777778,
              "#fb9f3a"
             ],
             [
              0.8888888888888888,
              "#fdca26"
             ],
             [
              1,
              "#f0f921"
             ]
            ],
            "type": "heatmapgl"
           }
          ],
          "histogram": [
           {
            "marker": {
             "pattern": {
              "fillmode": "overlay",
              "size": 10,
              "solidity": 0.2
             }
            },
            "type": "histogram"
           }
          ],
          "histogram2d": [
           {
            "colorbar": {
             "outlinewidth": 0,
             "ticks": ""
            },
            "colorscale": [
             [
              0,
              "#0d0887"
             ],
             [
              0.1111111111111111,
              "#46039f"
             ],
             [
              0.2222222222222222,
              "#7201a8"
             ],
             [
              0.3333333333333333,
              "#9c179e"
             ],
             [
              0.4444444444444444,
              "#bd3786"
             ],
             [
              0.5555555555555556,
              "#d8576b"
             ],
             [
              0.6666666666666666,
              "#ed7953"
             ],
             [
              0.7777777777777778,
              "#fb9f3a"
             ],
             [
              0.8888888888888888,
              "#fdca26"
             ],
             [
              1,
              "#f0f921"
             ]
            ],
            "type": "histogram2d"
           }
          ],
          "histogram2dcontour": [
           {
            "colorbar": {
             "outlinewidth": 0,
             "ticks": ""
            },
            "colorscale": [
             [
              0,
              "#0d0887"
             ],
             [
              0.1111111111111111,
              "#46039f"
             ],
             [
              0.2222222222222222,
              "#7201a8"
             ],
             [
              0.3333333333333333,
              "#9c179e"
             ],
             [
              0.4444444444444444,
              "#bd3786"
             ],
             [
              0.5555555555555556,
              "#d8576b"
             ],
             [
              0.6666666666666666,
              "#ed7953"
             ],
             [
              0.7777777777777778,
              "#fb9f3a"
             ],
             [
              0.8888888888888888,
              "#fdca26"
             ],
             [
              1,
              "#f0f921"
             ]
            ],
            "type": "histogram2dcontour"
           }
          ],
          "mesh3d": [
           {
            "colorbar": {
             "outlinewidth": 0,
             "ticks": ""
            },
            "type": "mesh3d"
           }
          ],
          "parcoords": [
           {
            "line": {
             "colorbar": {
              "outlinewidth": 0,
              "ticks": ""
             }
            },
            "type": "parcoords"
           }
          ],
          "pie": [
           {
            "automargin": true,
            "type": "pie"
           }
          ],
          "scatter": [
           {
            "fillpattern": {
             "fillmode": "overlay",
             "size": 10,
             "solidity": 0.2
            },
            "type": "scatter"
           }
          ],
          "scatter3d": [
           {
            "line": {
             "colorbar": {
              "outlinewidth": 0,
              "ticks": ""
             }
            },
            "marker": {
             "colorbar": {
              "outlinewidth": 0,
              "ticks": ""
             }
            },
            "type": "scatter3d"
           }
          ],
          "scattercarpet": [
           {
            "marker": {
             "colorbar": {
              "outlinewidth": 0,
              "ticks": ""
             }
            },
            "type": "scattercarpet"
           }
          ],
          "scattergeo": [
           {
            "marker": {
             "colorbar": {
              "outlinewidth": 0,
              "ticks": ""
             }
            },
            "type": "scattergeo"
           }
          ],
          "scattergl": [
           {
            "marker": {
             "colorbar": {
              "outlinewidth": 0,
              "ticks": ""
             }
            },
            "type": "scattergl"
           }
          ],
          "scattermapbox": [
           {
            "marker": {
             "colorbar": {
              "outlinewidth": 0,
              "ticks": ""
             }
            },
            "type": "scattermapbox"
           }
          ],
          "scatterpolar": [
           {
            "marker": {
             "colorbar": {
              "outlinewidth": 0,
              "ticks": ""
             }
            },
            "type": "scatterpolar"
           }
          ],
          "scatterpolargl": [
           {
            "marker": {
             "colorbar": {
              "outlinewidth": 0,
              "ticks": ""
             }
            },
            "type": "scatterpolargl"
           }
          ],
          "scatterternary": [
           {
            "marker": {
             "colorbar": {
              "outlinewidth": 0,
              "ticks": ""
             }
            },
            "type": "scatterternary"
           }
          ],
          "surface": [
           {
            "colorbar": {
             "outlinewidth": 0,
             "ticks": ""
            },
            "colorscale": [
             [
              0,
              "#0d0887"
             ],
             [
              0.1111111111111111,
              "#46039f"
             ],
             [
              0.2222222222222222,
              "#7201a8"
             ],
             [
              0.3333333333333333,
              "#9c179e"
             ],
             [
              0.4444444444444444,
              "#bd3786"
             ],
             [
              0.5555555555555556,
              "#d8576b"
             ],
             [
              0.6666666666666666,
              "#ed7953"
             ],
             [
              0.7777777777777778,
              "#fb9f3a"
             ],
             [
              0.8888888888888888,
              "#fdca26"
             ],
             [
              1,
              "#f0f921"
             ]
            ],
            "type": "surface"
           }
          ],
          "table": [
           {
            "cells": {
             "fill": {
              "color": "#EBF0F8"
             },
             "line": {
              "color": "white"
             }
            },
            "header": {
             "fill": {
              "color": "#C8D4E3"
             },
             "line": {
              "color": "white"
             }
            },
            "type": "table"
           }
          ]
         },
         "layout": {
          "annotationdefaults": {
           "arrowcolor": "#2a3f5f",
           "arrowhead": 0,
           "arrowwidth": 1
          },
          "autotypenumbers": "strict",
          "coloraxis": {
           "colorbar": {
            "outlinewidth": 0,
            "ticks": ""
           }
          },
          "colorscale": {
           "diverging": [
            [
             0,
             "#8e0152"
            ],
            [
             0.1,
             "#c51b7d"
            ],
            [
             0.2,
             "#de77ae"
            ],
            [
             0.3,
             "#f1b6da"
            ],
            [
             0.4,
             "#fde0ef"
            ],
            [
             0.5,
             "#f7f7f7"
            ],
            [
             0.6,
             "#e6f5d0"
            ],
            [
             0.7,
             "#b8e186"
            ],
            [
             0.8,
             "#7fbc41"
            ],
            [
             0.9,
             "#4d9221"
            ],
            [
             1,
             "#276419"
            ]
           ],
           "sequential": [
            [
             0,
             "#0d0887"
            ],
            [
             0.1111111111111111,
             "#46039f"
            ],
            [
             0.2222222222222222,
             "#7201a8"
            ],
            [
             0.3333333333333333,
             "#9c179e"
            ],
            [
             0.4444444444444444,
             "#bd3786"
            ],
            [
             0.5555555555555556,
             "#d8576b"
            ],
            [
             0.6666666666666666,
             "#ed7953"
            ],
            [
             0.7777777777777778,
             "#fb9f3a"
            ],
            [
             0.8888888888888888,
             "#fdca26"
            ],
            [
             1,
             "#f0f921"
            ]
           ],
           "sequentialminus": [
            [
             0,
             "#0d0887"
            ],
            [
             0.1111111111111111,
             "#46039f"
            ],
            [
             0.2222222222222222,
             "#7201a8"
            ],
            [
             0.3333333333333333,
             "#9c179e"
            ],
            [
             0.4444444444444444,
             "#bd3786"
            ],
            [
             0.5555555555555556,
             "#d8576b"
            ],
            [
             0.6666666666666666,
             "#ed7953"
            ],
            [
             0.7777777777777778,
             "#fb9f3a"
            ],
            [
             0.8888888888888888,
             "#fdca26"
            ],
            [
             1,
             "#f0f921"
            ]
           ]
          },
          "colorway": [
           "#636efa",
           "#EF553B",
           "#00cc96",
           "#ab63fa",
           "#FFA15A",
           "#19d3f3",
           "#FF6692",
           "#B6E880",
           "#FF97FF",
           "#FECB52"
          ],
          "font": {
           "color": "#2a3f5f"
          },
          "geo": {
           "bgcolor": "white",
           "lakecolor": "white",
           "landcolor": "#E5ECF6",
           "showlakes": true,
           "showland": true,
           "subunitcolor": "white"
          },
          "hoverlabel": {
           "align": "left"
          },
          "hovermode": "closest",
          "mapbox": {
           "style": "light"
          },
          "paper_bgcolor": "white",
          "plot_bgcolor": "#E5ECF6",
          "polar": {
           "angularaxis": {
            "gridcolor": "white",
            "linecolor": "white",
            "ticks": ""
           },
           "bgcolor": "#E5ECF6",
           "radialaxis": {
            "gridcolor": "white",
            "linecolor": "white",
            "ticks": ""
           }
          },
          "scene": {
           "xaxis": {
            "backgroundcolor": "#E5ECF6",
            "gridcolor": "white",
            "gridwidth": 2,
            "linecolor": "white",
            "showbackground": true,
            "ticks": "",
            "zerolinecolor": "white"
           },
           "yaxis": {
            "backgroundcolor": "#E5ECF6",
            "gridcolor": "white",
            "gridwidth": 2,
            "linecolor": "white",
            "showbackground": true,
            "ticks": "",
            "zerolinecolor": "white"
           },
           "zaxis": {
            "backgroundcolor": "#E5ECF6",
            "gridcolor": "white",
            "gridwidth": 2,
            "linecolor": "white",
            "showbackground": true,
            "ticks": "",
            "zerolinecolor": "white"
           }
          },
          "shapedefaults": {
           "line": {
            "color": "#2a3f5f"
           }
          },
          "ternary": {
           "aaxis": {
            "gridcolor": "white",
            "linecolor": "white",
            "ticks": ""
           },
           "baxis": {
            "gridcolor": "white",
            "linecolor": "white",
            "ticks": ""
           },
           "bgcolor": "#E5ECF6",
           "caxis": {
            "gridcolor": "white",
            "linecolor": "white",
            "ticks": ""
           }
          },
          "title": {
           "x": 0.05
          },
          "xaxis": {
           "automargin": true,
           "gridcolor": "white",
           "linecolor": "white",
           "ticks": "",
           "title": {
            "standoff": 15
           },
           "zerolinecolor": "white",
           "zerolinewidth": 2
          },
          "yaxis": {
           "automargin": true,
           "gridcolor": "white",
           "linecolor": "white",
           "ticks": "",
           "title": {
            "standoff": 15
           },
           "zerolinecolor": "white",
           "zerolinewidth": 2
          }
         }
        },
        "width": 1000
       }
      }
     },
     "metadata": {},
     "output_type": "display_data"
    }
   ],
   "source": [
    "###ok了  \n",
    "### 最终\n",
    "\n",
    "\n",
    "import plotly.graph_objects as go\n",
    "\n",
    "# 定义节点标签（IS 编号使用 Unicode 下标）\n",
    "\n",
    "nodes = [\n",
    "    \"Human factors\",\"External factors\", \n",
    "    \"H₁ Safety management issues\", \"H₂ Perception errors\", \n",
    "    \"H₃ Violation of operating procedures\", \"H₄ Decision-making errors\", \n",
    "    \"H₅ Human factors\", \"H₆ Improper crew arrangement\", \n",
    "    \"H₇ Inadequate voyage planning\", \"E₁ Ship equipment factors\", \n",
    "    \"E₂ Environmental factors\",\"R₁\", \"R₂\", \"R₃\", \"R₄\", \"R₅\", \"R₆\", \n",
    "    \"R₇\", \"R₈\", \"R₉\", \"R₁₀\", \"R₁₁\", \"R₁₂\", \"R₁₃\", \"R₁₄\", \"R₁₅\", \"R₁₆\",\n",
    "    \"R₁₇\", \"R₁₈\", \"R₁₉\", \"R₂₀\", \"R₂₁\", \"R₂₂\", \"R₂₃\", \"R₂₄\", \"R₂₅\", \n",
    "    \"R₂₆\", \"R₂₇\", \"R₂₈\", \"R₂₉\", \"R₃₀\", \"R₃₁\", \"R₃₂\", \"R₃₃\", \"R₃₄\",\n",
    "    \"S₁\", \"S₂\", \"S₃\"\n",
    "\n",
    "]\n",
    "\n",
    "\n",
    "# 定义连接的来源（source）和目标（target）索引\n",
    "links = {\n",
    "    \"source\": [\n",
    "        # 第一层到第二层\n",
    "        0, 0, 0, 0, 0, 0, 0, 1, 1,\n",
    "        # 第二层到第三层\n",
    "        2, 2, 2, 3, 3, \n",
    "        4, 4, 4, 4, 5, 5, 5, 5, 5, 5, 5,\n",
    "        6, 6, 6, 6, 7, 7, \n",
    "        8,8,8,8,8, 9,9,9,\n",
    "        10, 10, 10,10,\n",
    "        # 第三层到第四层（每个R节点依次连接到S1/S2/S3）\n",
    "        # R19,14,6 -> S1/S2/S3\n",
    "        29,14,16,\n",
    "        # R7,8 -> S1/S2/S3\n",
    "        17,18,\n",
    "        # R15,16,17,18 -> S1/S2/S3\n",
    "        25,26,27,28,\n",
    "        # R20,2,21,23,2,24,25 -> S1/S2/S3\n",
    "        30,32,31,33,12,34,35,\n",
    "        # R33,34,5,1 -> S1/S2/S3\n",
    "        43,44,15,11,\n",
    "        24,13,\n",
    "        19,20,21,22,23,\n",
    "        40,41,42,\n",
    "        36,37,38,39\n",
    "     ],\n",
    "    \"target\": [\n",
    "        # 第一层到第二层\n",
    "        2, 3, 4, 5, 6, 7, 8, 9,10,\n",
    "        # 第二层到第三层\n",
    "        29,14,16,\n",
    "        17,18,\n",
    "        25,26,27,28,\n",
    "        30,32,31,33,12,34,35,\n",
    "        43,44,15,11,\n",
    "        24,13,\n",
    "        19,20,21,22,23,\n",
    "        40,41,42,\n",
    "        36,37,38,39,\n",
    "\n",
    "        # 第三层到第四层\n",
    "    # ] + sum([[45, 46, 47] for _ in range(9, 43)], []),\n",
    "    ] + [45, 46, 47]*34,\n",
    "    #### 切记，value的值中不能为0，如果为0，则会不连线，会出现错误\n",
    "    \"value\": [\n",
    "        # 第一层到第二层 --需更新\n",
    "        68, 64, 27, 53, 48, 39, 127, 29, 44,\n",
    "        # 第二层到第三层--需更新\n",
    "        11, 45, 12, \n",
    "        33, 31,\n",
    "        7, 9, 2, 9, \n",
    "        2, 2, 6, 1, 15, 18, 9,\n",
    "        3, 35, 4, 6,\n",
    "        27, 12,\n",
    "        22, 11, 45, 23, 26,\n",
    "        6, 10, 13,\n",
    "        10, 11, 10, 13,\n",
    "        # 第三层到第四层（S1, S2, S3）\n",
    "        4,6,1,\n",
    "        21,14,10,\n",
    "        4,4,4,\n",
    "        8,15,10,\n",
    "        12,13,6,\n",
    "        0.5,5,2,\n",
    "        1,6,2,\n",
    "        1,1,0.5,\n",
    "        1,5,3,\n",
    "        1,0.5,1,\n",
    "        0.5,2, 0.5,\n",
    "        1, 5, 0.5,\n",
    "        0, 1, 0.5,\n",
    "        2, 11, 2,\n",
    "        10, 6, 2, \n",
    "        4, 3, 2,  \n",
    "        1, 1, 1,\n",
    "        10, 13, 12,\n",
    "        1, 3, 0.5,\n",
    "        1, 5, 0.5, \n",
    "        8, 14, 5, \n",
    "        1, 7, 4, \n",
    "        2, 15, 5, \n",
    "        2, 6, 3, \n",
    "        18, 10, 17, \n",
    "        3, 11, 9, \n",
    "        5, 14, 7, \n",
    "        3, 3, 0.5, \n",
    "        3, 3, 4, \n",
    "        5, 6, 2, \n",
    "        4, 4, 2, \n",
    "        5, 6, 0.5, \n",
    "        4, 6, 0.5, \n",
    "        8, 3, 2\n",
    "\n",
    "\n",
    "    ]\n",
    "}\n",
    "\n",
    "\n",
    "# 创建桑基图\n",
    "fig = go.Figure(go.Sankey(\n",
    "    node=dict(\n",
    "        pad=205,  # 增大间距，避免压盖\n",
    "        thickness=30,  # 调整节点厚度\n",
    "        line=dict(color=\"black\", width=0.5),\n",
    "        label=nodes\n",
    "    ),\n",
    "    link=dict(\n",
    "        source=links[\"source\"],\n",
    "        target=links[\"target\"],\n",
    "        value=links[\"value\"],\n",
    "        color=\"rgba(173, 216, 230, 0.8)\"  # 设置淡蓝色，透明度50%\n",
    "    )\n",
    "))\n",
    "\n",
    "# 设置布局\n",
    "fig.update_layout(\n",
    "    # title_text=\"Four-layer Sankey Diagram with Adjusted Node Spacing\",\n",
    "    font_size=12,\n",
    "    paper_bgcolor=\"white\",\n",
    "    width=1000,  # 增加图的宽度\n",
    "    height=800,   # 可适当调整高度\n",
    "    font=dict(family=\"Times New Roman\", size=14)  # 字体大小\n",
    ")\n",
    "# 保存 PDF\n",
    "fig.write_image(\"桑基图.pdf\", engine='kaleido',scale= 1.5)\n",
    "# 显示图表\n",
    "fig.show()\n"
   ]
  },
  {
   "cell_type": "code",
   "execution_count": null,
   "metadata": {},
   "outputs": [
    {
     "data": {
      "application/vnd.plotly.v1+json": {
       "config": {
        "plotlyServerURL": "https://plot.ly"
       },
       "data": [
        {
         "link": {
          "color": [
           "rgba(0,255,200,0.5)",
           "rgba(0,255,200,0.5)",
           "rgba(0,255,200,0.5)",
           "rgba(0,255,200,0.5)",
           "rgba(0,255,200,0.5)",
           "rgba(0,255,200,0.5)",
           "rgba(0,255,200,0.5)",
           "rgba(0,255,200,0.5)",
           "rgba(0,255,200,0.5)",
           "rgba(0,255,0,0.5)",
           "rgba(0,255,0,0.5)",
           "rgba(0,255,0,0.5)",
           "rgba(0,255,0,0.5)",
           "rgba(0,255,0,0.5)",
           "rgba(0,255,0,0.5)",
           "rgba(0,255,0,0.5)",
           "rgba(0,255,0,0.5)",
           "rgba(0,255,0,0.5)",
           "rgba(0,255,0,0.5)",
           "rgba(0,255,0,0.5)",
           "rgba(0,255,0,0.5)",
           "rgba(0,255,0,0.5)",
           "rgba(0,255,0,0.5)",
           "rgba(0,255,0,0.5)",
           "rgba(0,255,0,0.5)",
           "rgba(0,255,0,0.5)",
           "rgba(0,255,0,0.5)",
           "rgba(0,255,0,0.5)",
           "rgba(0,255,0,0.5)",
           "rgba(0,255,0,0.5)",
           "rgba(0,255,0,0.5)",
           "rgba(0,255,0,0.5)",
           "rgba(0,255,0,0.5)",
           "rgba(0,255,0,0.5)",
           "rgba(0,255,0,0.5)",
           "rgba(0,255,0,0.5)",
           "rgba(0,255,0,0.5)",
           "rgba(0,255,0,0.5)",
           "rgba(0,255,0,0.5)",
           "rgba(0,255,0,0.5)",
           "rgba(0,255,0,0.5)",
           "rgba(0,255,0,0.5)",
           "rgba(0,255,0,0.5)",
           "rgba(0,0,200,0.5)",
           "rgba(0,0,200,0.5)",
           "rgba(0,0,200,0.5)",
           "rgba(0,0,200,0.5)",
           "rgba(0,0,200,0.5)",
           "rgba(0,0,200,0.5)",
           "rgba(0,0,200,0.5)",
           "rgba(0,0,200,0.5)",
           "rgba(0,0,200,0.5)",
           "rgba(0,0,200,0.5)",
           "rgba(0,0,200,0.5)",
           "rgba(0,0,200,0.5)",
           "rgba(0,0,200,0.5)",
           "rgba(0,0,200,0.5)",
           "rgba(0,0,200,0.5)",
           "rgba(0,0,200,0.5)",
           "rgba(0,0,200,0.5)",
           "rgba(0,0,200,0.5)",
           "rgba(0,0,200,0.5)",
           "rgba(0,0,200,0.5)",
           "rgba(0,0,200,0.5)",
           "rgba(0,0,200,0.5)",
           "rgba(0,0,200,0.5)",
           "rgba(0,0,200,0.5)",
           "rgba(0,0,200,0.5)",
           "rgba(0,0,200,0.5)",
           "rgba(0,0,200,0.5)",
           "rgba(0,0,200,0.5)",
           "rgba(0,0,200,0.5)",
           "rgba(0,0,200,0.5)",
           "rgba(0,0,200,0.5)",
           "rgba(0,0,200,0.5)",
           "rgba(0,0,200,0.5)",
           "rgba(0,0,200,0.5)"
          ],
          "source": [
           0,
           0,
           0,
           0,
           0,
           0,
           0,
           1,
           1,
           2,
           2,
           2,
           3,
           3,
           4,
           4,
           4,
           4,
           5,
           5,
           5,
           5,
           5,
           5,
           5,
           6,
           6,
           6,
           6,
           7,
           7,
           8,
           8,
           8,
           8,
           8,
           9,
           9,
           9,
           10,
           10,
           10,
           10,
           29,
           14,
           16,
           17,
           18,
           25,
           26,
           27,
           28,
           30,
           32,
           31,
           33,
           12,
           34,
           35,
           43,
           44,
           15,
           11,
           24,
           13,
           19,
           20,
           21,
           22,
           23,
           40,
           41,
           42,
           36,
           37,
           38,
           39
          ],
          "target": [
           2,
           3,
           4,
           5,
           6,
           7,
           8,
           9,
           10,
           29,
           14,
           16,
           17,
           18,
           25,
           26,
           27,
           28,
           30,
           32,
           31,
           33,
           12,
           34,
           35,
           43,
           44,
           15,
           11,
           24,
           13,
           19,
           20,
           21,
           22,
           23,
           40,
           41,
           42,
           36,
           37,
           38,
           39,
           45,
           46,
           47,
           45,
           46,
           47,
           45,
           46,
           47,
           45,
           46,
           47,
           45,
           46,
           47,
           45,
           46,
           47,
           45,
           46,
           47,
           45,
           46,
           47,
           45,
           46,
           47,
           45,
           46,
           47,
           45,
           46,
           47,
           45,
           46,
           47,
           45,
           46,
           47,
           45,
           46,
           47,
           45,
           46,
           47,
           45,
           46,
           47,
           45,
           46,
           47,
           45,
           46,
           47,
           45,
           46,
           47,
           45,
           46,
           47,
           45,
           46,
           47,
           45,
           46,
           47,
           45,
           46,
           47,
           45,
           46,
           47,
           45,
           46,
           47,
           45,
           46,
           47,
           45,
           46,
           47,
           45,
           46,
           47,
           45,
           46,
           47,
           45,
           46,
           47,
           45,
           46,
           47,
           45,
           46,
           47,
           45,
           46,
           47,
           45,
           46,
           47
          ],
          "value": [
           68,
           64,
           27,
           53,
           48,
           39,
           127,
           29,
           44,
           11,
           45,
           12,
           33,
           31,
           7,
           9,
           2,
           9,
           2,
           2,
           6,
           1,
           15,
           18,
           9,
           3,
           35,
           4,
           6,
           27,
           12,
           22,
           11,
           45,
           23,
           26,
           6,
           10,
           13,
           10,
           11,
           10,
           13,
           4,
           6,
           1,
           21,
           14,
           10,
           4,
           4,
           4,
           8,
           15,
           10,
           12,
           13,
           6,
           0.5,
           5,
           2,
           1,
           6,
           2,
           1,
           1,
           0.5,
           1,
           5,
           3,
           1,
           0.5,
           1,
           0.5,
           2,
           0.5,
           1,
           5,
           0.5,
           0,
           1,
           0.5,
           2,
           11,
           2,
           10,
           6,
           2,
           4,
           3,
           2,
           1,
           1,
           1,
           10,
           13,
           12,
           1,
           3,
           0.5,
           1,
           5,
           0.5,
           8,
           14,
           5,
           1,
           7,
           4,
           2,
           15,
           5,
           2,
           6,
           3,
           18,
           10,
           17,
           3,
           11,
           9,
           5,
           14,
           7,
           3,
           3,
           0.5,
           3,
           3,
           4,
           5,
           6,
           2,
           4,
           4,
           2,
           5,
           6,
           0.5,
           4,
           6,
           0.5,
           8,
           3,
           2
          ]
         },
         "node": {
          "label": [
           "Human factors",
           "External factors",
           "H₁ Safety management issues",
           "H₂ Perception errors",
           "H₃ Violation of operating procedures",
           "H₄ Decision-making errors",
           "H₅ Human factors",
           "H₆ Improper crew arrangement",
           "H₇ Inadequate voyage planning",
           "E₁ Ship equipment factors",
           "E₂ Environmental factors",
           "R₁",
           "R₂",
           "R₃",
           "R₄",
           "R₅",
           "R₆",
           "R₇",
           "R₈",
           "R₉",
           "R₁₀",
           "R₁₁",
           "R₁₂",
           "R₁₃",
           "R₁₄",
           "R₁₅",
           "R₁₆",
           "R₁₇",
           "R₁₈",
           "R₁₉",
           "R₂₀",
           "R₂₁",
           "R₂₂",
           "R₂₃",
           "R₂₄",
           "R₂₅",
           "R₂₆",
           "R₂₇",
           "R₂₈",
           "R₂₉",
           "R₃₀",
           "R₃₁",
           "R₃₂",
           "R₃₃",
           "R₃₄",
           "S₁",
           "S₂",
           "S₃"
          ],
          "line": {
           "color": "black",
           "width": 0.5
          },
          "pad": 205,
          "thickness": 30
         },
         "type": "sankey"
        }
       ],
       "layout": {
        "font": {
         "family": "Times New Roman",
         "size": 14
        },
        "height": 800,
        "paper_bgcolor": "white",
        "template": {
         "data": {
          "bar": [
           {
            "error_x": {
             "color": "#2a3f5f"
            },
            "error_y": {
             "color": "#2a3f5f"
            },
            "marker": {
             "line": {
              "color": "#E5ECF6",
              "width": 0.5
             },
             "pattern": {
              "fillmode": "overlay",
              "size": 10,
              "solidity": 0.2
             }
            },
            "type": "bar"
           }
          ],
          "barpolar": [
           {
            "marker": {
             "line": {
              "color": "#E5ECF6",
              "width": 0.5
             },
             "pattern": {
              "fillmode": "overlay",
              "size": 10,
              "solidity": 0.2
             }
            },
            "type": "barpolar"
           }
          ],
          "carpet": [
           {
            "aaxis": {
             "endlinecolor": "#2a3f5f",
             "gridcolor": "white",
             "linecolor": "white",
             "minorgridcolor": "white",
             "startlinecolor": "#2a3f5f"
            },
            "baxis": {
             "endlinecolor": "#2a3f5f",
             "gridcolor": "white",
             "linecolor": "white",
             "minorgridcolor": "white",
             "startlinecolor": "#2a3f5f"
            },
            "type": "carpet"
           }
          ],
          "choropleth": [
           {
            "colorbar": {
             "outlinewidth": 0,
             "ticks": ""
            },
            "type": "choropleth"
           }
          ],
          "contour": [
           {
            "colorbar": {
             "outlinewidth": 0,
             "ticks": ""
            },
            "colorscale": [
             [
              0,
              "#0d0887"
             ],
             [
              0.1111111111111111,
              "#46039f"
             ],
             [
              0.2222222222222222,
              "#7201a8"
             ],
             [
              0.3333333333333333,
              "#9c179e"
             ],
             [
              0.4444444444444444,
              "#bd3786"
             ],
             [
              0.5555555555555556,
              "#d8576b"
             ],
             [
              0.6666666666666666,
              "#ed7953"
             ],
             [
              0.7777777777777778,
              "#fb9f3a"
             ],
             [
              0.8888888888888888,
              "#fdca26"
             ],
             [
              1,
              "#f0f921"
             ]
            ],
            "type": "contour"
           }
          ],
          "contourcarpet": [
           {
            "colorbar": {
             "outlinewidth": 0,
             "ticks": ""
            },
            "type": "contourcarpet"
           }
          ],
          "heatmap": [
           {
            "colorbar": {
             "outlinewidth": 0,
             "ticks": ""
            },
            "colorscale": [
             [
              0,
              "#0d0887"
             ],
             [
              0.1111111111111111,
              "#46039f"
             ],
             [
              0.2222222222222222,
              "#7201a8"
             ],
             [
              0.3333333333333333,
              "#9c179e"
             ],
             [
              0.4444444444444444,
              "#bd3786"
             ],
             [
              0.5555555555555556,
              "#d8576b"
             ],
             [
              0.6666666666666666,
              "#ed7953"
             ],
             [
              0.7777777777777778,
              "#fb9f3a"
             ],
             [
              0.8888888888888888,
              "#fdca26"
             ],
             [
              1,
              "#f0f921"
             ]
            ],
            "type": "heatmap"
           }
          ],
          "heatmapgl": [
           {
            "colorbar": {
             "outlinewidth": 0,
             "ticks": ""
            },
            "colorscale": [
             [
              0,
              "#0d0887"
             ],
             [
              0.1111111111111111,
              "#46039f"
             ],
             [
              0.2222222222222222,
              "#7201a8"
             ],
             [
              0.3333333333333333,
              "#9c179e"
             ],
             [
              0.4444444444444444,
              "#bd3786"
             ],
             [
              0.5555555555555556,
              "#d8576b"
             ],
             [
              0.6666666666666666,
              "#ed7953"
             ],
             [
              0.7777777777777778,
              "#fb9f3a"
             ],
             [
              0.8888888888888888,
              "#fdca26"
             ],
             [
              1,
              "#f0f921"
             ]
            ],
            "type": "heatmapgl"
           }
          ],
          "histogram": [
           {
            "marker": {
             "pattern": {
              "fillmode": "overlay",
              "size": 10,
              "solidity": 0.2
             }
            },
            "type": "histogram"
           }
          ],
          "histogram2d": [
           {
            "colorbar": {
             "outlinewidth": 0,
             "ticks": ""
            },
            "colorscale": [
             [
              0,
              "#0d0887"
             ],
             [
              0.1111111111111111,
              "#46039f"
             ],
             [
              0.2222222222222222,
              "#7201a8"
             ],
             [
              0.3333333333333333,
              "#9c179e"
             ],
             [
              0.4444444444444444,
              "#bd3786"
             ],
             [
              0.5555555555555556,
              "#d8576b"
             ],
             [
              0.6666666666666666,
              "#ed7953"
             ],
             [
              0.7777777777777778,
              "#fb9f3a"
             ],
             [
              0.8888888888888888,
              "#fdca26"
             ],
             [
              1,
              "#f0f921"
             ]
            ],
            "type": "histogram2d"
           }
          ],
          "histogram2dcontour": [
           {
            "colorbar": {
             "outlinewidth": 0,
             "ticks": ""
            },
            "colorscale": [
             [
              0,
              "#0d0887"
             ],
             [
              0.1111111111111111,
              "#46039f"
             ],
             [
              0.2222222222222222,
              "#7201a8"
             ],
             [
              0.3333333333333333,
              "#9c179e"
             ],
             [
              0.4444444444444444,
              "#bd3786"
             ],
             [
              0.5555555555555556,
              "#d8576b"
             ],
             [
              0.6666666666666666,
              "#ed7953"
             ],
             [
              0.7777777777777778,
              "#fb9f3a"
             ],
             [
              0.8888888888888888,
              "#fdca26"
             ],
             [
              1,
              "#f0f921"
             ]
            ],
            "type": "histogram2dcontour"
           }
          ],
          "mesh3d": [
           {
            "colorbar": {
             "outlinewidth": 0,
             "ticks": ""
            },
            "type": "mesh3d"
           }
          ],
          "parcoords": [
           {
            "line": {
             "colorbar": {
              "outlinewidth": 0,
              "ticks": ""
             }
            },
            "type": "parcoords"
           }
          ],
          "pie": [
           {
            "automargin": true,
            "type": "pie"
           }
          ],
          "scatter": [
           {
            "fillpattern": {
             "fillmode": "overlay",
             "size": 10,
             "solidity": 0.2
            },
            "type": "scatter"
           }
          ],
          "scatter3d": [
           {
            "line": {
             "colorbar": {
              "outlinewidth": 0,
              "ticks": ""
             }
            },
            "marker": {
             "colorbar": {
              "outlinewidth": 0,
              "ticks": ""
             }
            },
            "type": "scatter3d"
           }
          ],
          "scattercarpet": [
           {
            "marker": {
             "colorbar": {
              "outlinewidth": 0,
              "ticks": ""
             }
            },
            "type": "scattercarpet"
           }
          ],
          "scattergeo": [
           {
            "marker": {
             "colorbar": {
              "outlinewidth": 0,
              "ticks": ""
             }
            },
            "type": "scattergeo"
           }
          ],
          "scattergl": [
           {
            "marker": {
             "colorbar": {
              "outlinewidth": 0,
              "ticks": ""
             }
            },
            "type": "scattergl"
           }
          ],
          "scattermapbox": [
           {
            "marker": {
             "colorbar": {
              "outlinewidth": 0,
              "ticks": ""
             }
            },
            "type": "scattermapbox"
           }
          ],
          "scatterpolar": [
           {
            "marker": {
             "colorbar": {
              "outlinewidth": 0,
              "ticks": ""
             }
            },
            "type": "scatterpolar"
           }
          ],
          "scatterpolargl": [
           {
            "marker": {
             "colorbar": {
              "outlinewidth": 0,
              "ticks": ""
             }
            },
            "type": "scatterpolargl"
           }
          ],
          "scatterternary": [
           {
            "marker": {
             "colorbar": {
              "outlinewidth": 0,
              "ticks": ""
             }
            },
            "type": "scatterternary"
           }
          ],
          "surface": [
           {
            "colorbar": {
             "outlinewidth": 0,
             "ticks": ""
            },
            "colorscale": [
             [
              0,
              "#0d0887"
             ],
             [
              0.1111111111111111,
              "#46039f"
             ],
             [
              0.2222222222222222,
              "#7201a8"
             ],
             [
              0.3333333333333333,
              "#9c179e"
             ],
             [
              0.4444444444444444,
              "#bd3786"
             ],
             [
              0.5555555555555556,
              "#d8576b"
             ],
             [
              0.6666666666666666,
              "#ed7953"
             ],
             [
              0.7777777777777778,
              "#fb9f3a"
             ],
             [
              0.8888888888888888,
              "#fdca26"
             ],
             [
              1,
              "#f0f921"
             ]
            ],
            "type": "surface"
           }
          ],
          "table": [
           {
            "cells": {
             "fill": {
              "color": "#EBF0F8"
             },
             "line": {
              "color": "white"
             }
            },
            "header": {
             "fill": {
              "color": "#C8D4E3"
             },
             "line": {
              "color": "white"
             }
            },
            "type": "table"
           }
          ]
         },
         "layout": {
          "annotationdefaults": {
           "arrowcolor": "#2a3f5f",
           "arrowhead": 0,
           "arrowwidth": 1
          },
          "autotypenumbers": "strict",
          "coloraxis": {
           "colorbar": {
            "outlinewidth": 0,
            "ticks": ""
           }
          },
          "colorscale": {
           "diverging": [
            [
             0,
             "#8e0152"
            ],
            [
             0.1,
             "#c51b7d"
            ],
            [
             0.2,
             "#de77ae"
            ],
            [
             0.3,
             "#f1b6da"
            ],
            [
             0.4,
             "#fde0ef"
            ],
            [
             0.5,
             "#f7f7f7"
            ],
            [
             0.6,
             "#e6f5d0"
            ],
            [
             0.7,
             "#b8e186"
            ],
            [
             0.8,
             "#7fbc41"
            ],
            [
             0.9,
             "#4d9221"
            ],
            [
             1,
             "#276419"
            ]
           ],
           "sequential": [
            [
             0,
             "#0d0887"
            ],
            [
             0.1111111111111111,
             "#46039f"
            ],
            [
             0.2222222222222222,
             "#7201a8"
            ],
            [
             0.3333333333333333,
             "#9c179e"
            ],
            [
             0.4444444444444444,
             "#bd3786"
            ],
            [
             0.5555555555555556,
             "#d8576b"
            ],
            [
             0.6666666666666666,
             "#ed7953"
            ],
            [
             0.7777777777777778,
             "#fb9f3a"
            ],
            [
             0.8888888888888888,
             "#fdca26"
            ],
            [
             1,
             "#f0f921"
            ]
           ],
           "sequentialminus": [
            [
             0,
             "#0d0887"
            ],
            [
             0.1111111111111111,
             "#46039f"
            ],
            [
             0.2222222222222222,
             "#7201a8"
            ],
            [
             0.3333333333333333,
             "#9c179e"
            ],
            [
             0.4444444444444444,
             "#bd3786"
            ],
            [
             0.5555555555555556,
             "#d8576b"
            ],
            [
             0.6666666666666666,
             "#ed7953"
            ],
            [
             0.7777777777777778,
             "#fb9f3a"
            ],
            [
             0.8888888888888888,
             "#fdca26"
            ],
            [
             1,
             "#f0f921"
            ]
           ]
          },
          "colorway": [
           "#636efa",
           "#EF553B",
           "#00cc96",
           "#ab63fa",
           "#FFA15A",
           "#19d3f3",
           "#FF6692",
           "#B6E880",
           "#FF97FF",
           "#FECB52"
          ],
          "font": {
           "color": "#2a3f5f"
          },
          "geo": {
           "bgcolor": "white",
           "lakecolor": "white",
           "landcolor": "#E5ECF6",
           "showlakes": true,
           "showland": true,
           "subunitcolor": "white"
          },
          "hoverlabel": {
           "align": "left"
          },
          "hovermode": "closest",
          "mapbox": {
           "style": "light"
          },
          "paper_bgcolor": "white",
          "plot_bgcolor": "#E5ECF6",
          "polar": {
           "angularaxis": {
            "gridcolor": "white",
            "linecolor": "white",
            "ticks": ""
           },
           "bgcolor": "#E5ECF6",
           "radialaxis": {
            "gridcolor": "white",
            "linecolor": "white",
            "ticks": ""
           }
          },
          "scene": {
           "xaxis": {
            "backgroundcolor": "#E5ECF6",
            "gridcolor": "white",
            "gridwidth": 2,
            "linecolor": "white",
            "showbackground": true,
            "ticks": "",
            "zerolinecolor": "white"
           },
           "yaxis": {
            "backgroundcolor": "#E5ECF6",
            "gridcolor": "white",
            "gridwidth": 2,
            "linecolor": "white",
            "showbackground": true,
            "ticks": "",
            "zerolinecolor": "white"
           },
           "zaxis": {
            "backgroundcolor": "#E5ECF6",
            "gridcolor": "white",
            "gridwidth": 2,
            "linecolor": "white",
            "showbackground": true,
            "ticks": "",
            "zerolinecolor": "white"
           }
          },
          "shapedefaults": {
           "line": {
            "color": "#2a3f5f"
           }
          },
          "ternary": {
           "aaxis": {
            "gridcolor": "white",
            "linecolor": "white",
            "ticks": ""
           },
           "baxis": {
            "gridcolor": "white",
            "linecolor": "white",
            "ticks": ""
           },
           "bgcolor": "#E5ECF6",
           "caxis": {
            "gridcolor": "white",
            "linecolor": "white",
            "ticks": ""
           }
          },
          "title": {
           "x": 0.05
          },
          "xaxis": {
           "automargin": true,
           "gridcolor": "white",
           "linecolor": "white",
           "ticks": "",
           "title": {
            "standoff": 15
           },
           "zerolinecolor": "white",
           "zerolinewidth": 2
          },
          "yaxis": {
           "automargin": true,
           "gridcolor": "white",
           "linecolor": "white",
           "ticks": "",
           "title": {
            "standoff": 15
           },
           "zerolinecolor": "white",
           "zerolinewidth": 2
          }
         }
        },
        "width": 1000
       }
      }
     },
     "metadata": {},
     "output_type": "display_data"
    }
   ],
   "source": [
    "###ok了  \n",
    "### 最终的！！！！！！！！\n",
    "\n",
    "\n",
    "import plotly.graph_objects as go\n",
    "\n",
    "# 定义节点标签（IS 编号使用 Unicode 下标）\n",
    "\n",
    "nodes = [\n",
    "    \"Human factors\",\"External factors\", \n",
    "    \"H₁ Safety management issues\", \"H₂ Perception errors\", \n",
    "    \"H₃ Violation of operating procedures\", \"H₄ Decision-making errors\", \n",
    "    \"H₅ Human factors\", \"H₆ Improper crew arrangement\", \n",
    "    \"H₇ Inadequate voyage planning\", \"E₁ Ship equipment factors\", \n",
    "    \"E₂ Environmental factors\",\"R₁\", \"R₂\", \"R₃\", \"R₄\", \"R₅\", \"R₆\", \n",
    "    \"R₇\", \"R₈\", \"R₉\", \"R₁₀\", \"R₁₁\", \"R₁₂\", \"R₁₃\", \"R₁₄\", \"R₁₅\", \"R₁₆\",\n",
    "    \"R₁₇\", \"R₁₈\", \"R₁₉\", \"R₂₀\", \"R₂₁\", \"R₂₂\", \"R₂₃\", \"R₂₄\", \"R₂₅\", \n",
    "    \"R₂₆\", \"R₂₇\", \"R₂₈\", \"R₂₉\", \"R₃₀\", \"R₃₁\", \"R₃₂\", \"R₃₃\", \"R₃₄\",\n",
    "    \"S₁\", \"S₂\", \"S₃\"\n",
    "\n",
    "]\n",
    "\n",
    "\n",
    "# 定义连接的来源（source）和目标（target）索引\n",
    "links = {\n",
    "    \"source\": [\n",
    "        # 第一层到第二层\n",
    "        0, 0, 0, 0, 0, 0, 0, 1, 1,\n",
    "        # 第二层到第三层\n",
    "        2, 2, 2, 3, 3, \n",
    "        4, 4, 4, 4, 5, 5, 5, 5, 5, 5, 5,\n",
    "        6, 6, 6, 6, 7, 7, \n",
    "        8,8,8,8,8, 9,9,9,\n",
    "        10, 10, 10,10,\n",
    "        # 第三层到第四层（每个R节点依次连接到S1/S2/S3）\n",
    "        # R19,14,6 -> S1/S2/S3\n",
    "        29,14,16,\n",
    "        # R7,8 -> S1/S2/S3\n",
    "        17,18,\n",
    "        # R15,16,17,18 -> S1/S2/S3\n",
    "        25,26,27,28,\n",
    "        # R20,2,21,23,2,24,25 -> S1/S2/S3\n",
    "        30,32,31,33,12,34,35,\n",
    "        # R33,34,5,1 -> S1/S2/S3\n",
    "        43,44,15,11,\n",
    "        24,13,\n",
    "        19,20,21,22,23,\n",
    "        40,41,42,\n",
    "        36,37,38,39\n",
    "     ],\n",
    "    \"target\": [\n",
    "        # 第一层到第二层\n",
    "        2, 3, 4, 5, 6, 7, 8, 9,10,\n",
    "        # 第二层到第三层\n",
    "        29,14,16,\n",
    "        17,18,\n",
    "        25,26,27,28,\n",
    "        30,32,31,33,12,34,35,\n",
    "        43,44,15,11,\n",
    "        24,13,\n",
    "        19,20,21,22,23,\n",
    "        40,41,42,\n",
    "        36,37,38,39,\n",
    "        \n",
    "\n",
    "        # 第三层到第四层\n",
    "    # ] + sum([[45, 46, 47] for _ in range(9, 43)], []),\n",
    "    ] + [45, 46, 47]*34,\n",
    "    #### 切记，value的值中不能为0，如果为0，则会不连线，会出现错误\n",
    "    \"value\": [\n",
    "        # 第一层到第二层 --需更新\n",
    "        68, 64, 27, 53, 48, 39, 127, 29, 44,\n",
    "        # 第二层到第三层--需更新\n",
    "        11, 45, 12, \n",
    "        33, 31,\n",
    "        7, 9, 2, 9, \n",
    "        2, 2, 6, 1, 15, 18, 9,\n",
    "        3, 35, 4, 6,\n",
    "        27, 12,\n",
    "        22, 11, 45, 23, 26,\n",
    "        6, 10, 13,\n",
    "        10, 11, 10, 13,\n",
    "        # 第三层到第四层（S1, S2, S3）\n",
    "        4,6,1,\n",
    "        21,14,10,\n",
    "        4,4,4,\n",
    "        8,15,10,\n",
    "        12,13,6,\n",
    "        0.5,5,2,\n",
    "        1,6,2,\n",
    "        1,1,0.5,\n",
    "        1,5,3,\n",
    "        1,0.5,1,\n",
    "        0.5,2, 0.5,\n",
    "        1, 5, 0.5,\n",
    "        0, 1, 0.5,\n",
    "        2, 11, 2,\n",
    "        10, 6, 2, \n",
    "        4, 3, 2,  \n",
    "        1, 1, 1,\n",
    "        10, 13, 12,\n",
    "        1, 3, 0.5,\n",
    "        1, 5, 0.5, \n",
    "        8, 14, 5, \n",
    "        1, 7, 4, \n",
    "        2, 15, 5, \n",
    "        2, 6, 3, \n",
    "        18, 10, 17, \n",
    "        3, 11, 9, \n",
    "        5, 14, 7, \n",
    "        3, 3, 0.5, \n",
    "        3, 3, 4, \n",
    "        5, 6, 2, \n",
    "        4, 4, 2, \n",
    "        5, 6, 0.5, \n",
    "        4, 6, 0.5, \n",
    "        8, 3, 2\n",
    "\n",
    "\n",
    "    ]\n",
    "}\n",
    "\n",
    "link_colors = []\n",
    "for s, t in zip(links[\"source\"], links[\"target\"]):\n",
    " if s <2: # 第一层到第二层 \n",
    "   link_colors.append(\"rgba(0,255,200,0.5)\")\n",
    " elif s <11: # 第二层到第三层 \n",
    "   link_colors.append(\"rgba(0,255,0,0.5)\")\n",
    " else: # 第三层到第四层 \n",
    "   link_colors.append(\"rgba(0,0,200,0.5)\")\n",
    "# 创建桑基图\n",
    "fig = go.Figure(go.Sankey(\n",
    "    node=dict(\n",
    "        pad=205,  # 增大间距，避免压盖\n",
    "        thickness=30,  # 调整节点厚度\n",
    "        line=dict(color=\"black\", width=0.5),\n",
    "        label=nodes\n",
    "    ),\n",
    "    link=dict(\n",
    "        source=links[\"source\"],\n",
    "        target=links[\"target\"],\n",
    "        value=links[\"value\"],\n",
    "        color=link_colors  # 设置淡蓝色，透明度50%\n",
    "    )\n",
    "))\n",
    "\n",
    "# 设置布局\n",
    "fig.update_layout(\n",
    "    # title_text=\"Four-layer Sankey Diagram with Adjusted Node Spacing\",\n",
    "    font_size=12,\n",
    "    paper_bgcolor=\"white\",\n",
    "    width=1000,  # 增加图的宽度\n",
    "    height=800,   # 可适当调整高度\n",
    "    font=dict(family=\"Times New Roman\", size=14)  # 字体大小\n",
    ")\n",
    "# 保存 PDF\n",
    "fig.write_image(\"桑基图.pdf\", engine='kaleido',scale= 1.5)\n",
    "# 显示图表\n",
    "fig.show()\n"
   ]
  },
  {
   "cell_type": "code",
   "execution_count": 53,
   "metadata": {},
   "outputs": [
    {
     "data": {
      "application/vnd.plotly.v1+json": {
       "config": {
        "plotlyServerURL": "https://plot.ly"
       },
       "data": [
        {
         "link": {
          "color": [
           "rgba(0,255,200,0.5)",
           "rgba(0,255,200,0.5)",
           "rgba(0,255,200,0.5)",
           "rgba(0,255,200,0.5)",
           "rgba(0,255,200,0.5)",
           "rgba(0,255,200,0.5)",
           "rgba(0,255,200,0.5)",
           "rgba(0,255,200,0.5)",
           "rgba(0,255,200,0.5)",
           "rgba(0,255,0,0.5)",
           "rgba(0,255,0,0.5)",
           "rgba(0,255,0,0.5)",
           "rgba(0,255,0,0.5)",
           "rgba(0,255,0,0.5)",
           "rgba(0,255,0,0.5)",
           "rgba(0,255,0,0.5)",
           "rgba(0,255,0,0.5)",
           "rgba(0,255,0,0.5)",
           "rgba(0,255,0,0.5)",
           "rgba(0,255,0,0.5)",
           "rgba(0,255,0,0.5)",
           "rgba(0,255,0,0.5)",
           "rgba(0,255,0,0.5)",
           "rgba(0,255,0,0.5)",
           "rgba(0,255,0,0.5)",
           "rgba(0,255,0,0.5)",
           "rgba(0,255,0,0.5)",
           "rgba(0,255,0,0.5)",
           "rgba(0,255,0,0.5)",
           "rgba(0,255,0,0.5)",
           "rgba(0,255,0,0.5)",
           "rgba(0,255,0,0.5)",
           "rgba(0,255,0,0.5)",
           "rgba(0,255,0,0.5)",
           "rgba(0,255,0,0.5)",
           "rgba(0,255,0,0.5)",
           "rgba(0,255,0,0.5)",
           "rgba(0,255,0,0.5)",
           "rgba(0,255,0,0.5)",
           "rgba(0,255,0,0.5)",
           "rgba(0,255,0,0.5)",
           "rgba(0,255,0,0.5)",
           "rgba(0,255,0,0.5)",
           "rgba(0,0,200,0.3)",
           "rgba(0,0,200,0.3)",
           "rgba(0,0,200,0.3)",
           "rgba(0,0,200,0.3)",
           "rgba(0,0,200,0.3)",
           "rgba(0,0,200,0.3)",
           "rgba(0,0,200,0.3)",
           "rgba(0,0,200,0.3)",
           "rgba(0,0,200,0.3)",
           "rgba(0,0,200,0.3)",
           "rgba(0,0,200,0.3)",
           "rgba(0,0,200,0.3)",
           "rgba(0,0,200,0.3)",
           "rgba(0,0,200,0.3)",
           "rgba(0,0,200,0.3)",
           "rgba(0,0,200,0.3)",
           "rgba(0,0,200,0.3)",
           "rgba(0,0,200,0.3)",
           "rgba(0,0,200,0.3)",
           "rgba(0,0,200,0.3)",
           "rgba(0,0,200,0.3)",
           "rgba(0,0,200,0.3)",
           "rgba(0,0,200,0.3)",
           "rgba(0,0,200,0.3)",
           "rgba(0,0,200,0.3)",
           "rgba(0,0,200,0.3)",
           "rgba(0,0,200,0.3)",
           "rgba(0,0,200,0.3)",
           "rgba(0,0,200,0.3)",
           "rgba(0,0,200,0.3)",
           "rgba(0,0,200,0.3)",
           "rgba(0,0,200,0.3)",
           "rgba(0,0,200,0.3)",
           "rgba(0,0,200,0.3)",
           "rgba(0,0,200,0.3)",
           "rgba(0,0,200,0.3)",
           "rgba(0,0,200,0.3)",
           "rgba(0,0,200,0.3)",
           "rgba(0,0,200,0.3)",
           "rgba(0,0,200,0.3)",
           "rgba(0,0,200,0.3)",
           "rgba(0,0,200,0.3)",
           "rgba(0,0,200,0.3)",
           "rgba(0,0,200,0.3)",
           "rgba(0,0,200,0.3)",
           "rgba(0,0,200,0.3)",
           "rgba(0,0,200,0.3)",
           "rgba(0,0,200,0.3)",
           "rgba(0,0,200,0.3)",
           "rgba(0,0,200,0.3)",
           "rgba(0,0,200,0.3)",
           "rgba(0,0,200,0.3)",
           "rgba(0,0,200,0.3)",
           "rgba(0,0,200,0.3)",
           "rgba(0,0,200,0.3)",
           "rgba(0,0,200,0.3)",
           "rgba(0,0,200,0.3)",
           "rgba(0,0,200,0.3)",
           "rgba(0,0,200,0.3)",
           "rgba(0,0,200,0.3)",
           "rgba(0,0,200,0.3)",
           "rgba(0,0,200,0.3)",
           "rgba(0,0,200,0.3)",
           "rgba(0,0,200,0.3)",
           "rgba(0,0,200,0.3)",
           "rgba(0,0,200,0.3)",
           "rgba(0,0,200,0.3)",
           "rgba(0,0,200,0.3)",
           "rgba(0,0,200,0.3)",
           "rgba(0,0,200,0.3)",
           "rgba(0,0,200,0.3)",
           "rgba(0,0,200,0.3)",
           "rgba(0,0,200,0.3)",
           "rgba(0,0,200,0.3)",
           "rgba(0,0,200,0.3)",
           "rgba(0,0,200,0.3)",
           "rgba(0,0,200,0.3)",
           "rgba(0,0,200,0.3)",
           "rgba(0,0,200,0.3)",
           "rgba(0,0,200,0.3)",
           "rgba(0,0,200,0.3)",
           "rgba(0,0,200,0.3)",
           "rgba(0,0,200,0.3)",
           "rgba(0,0,200,0.3)",
           "rgba(0,0,200,0.3)",
           "rgba(0,0,200,0.3)",
           "rgba(0,0,200,0.3)",
           "rgba(0,0,200,0.3)",
           "rgba(0,0,200,0.3)",
           "rgba(0,0,200,0.3)",
           "rgba(0,0,200,0.3)",
           "rgba(0,0,200,0.3)",
           "rgba(0,0,200,0.3)",
           "rgba(0,0,200,0.3)",
           "rgba(0,0,200,0.3)",
           "rgba(0,0,200,0.3)",
           "rgba(0,0,200,0.3)",
           "rgba(0,0,200,0.3)",
           "rgba(0,0,200,0.3)",
           "rgba(0,0,200,0.3)",
           "rgba(0,0,200,0.3)",
           "rgba(0,0,200,0.3)"
          ],
          "source": [
           0,
           0,
           0,
           0,
           0,
           0,
           0,
           1,
           1,
           2,
           2,
           2,
           3,
           3,
           4,
           4,
           4,
           4,
           5,
           5,
           5,
           5,
           5,
           5,
           5,
           6,
           6,
           6,
           6,
           7,
           7,
           8,
           8,
           8,
           8,
           8,
           9,
           9,
           9,
           10,
           10,
           10,
           10,
           29,
           29,
           29,
           14,
           14,
           14,
           16,
           16,
           16,
           17,
           17,
           17,
           18,
           18,
           18,
           25,
           25,
           25,
           26,
           26,
           26,
           27,
           27,
           27,
           28,
           28,
           28,
           30,
           30,
           30,
           32,
           32,
           32,
           31,
           31,
           31,
           33,
           33,
           33,
           12,
           12,
           12,
           34,
           34,
           34,
           35,
           35,
           35,
           43,
           43,
           43,
           44,
           44,
           44,
           15,
           15,
           15,
           11,
           11,
           11,
           24,
           24,
           24,
           13,
           13,
           13,
           19,
           19,
           19,
           20,
           20,
           20,
           21,
           21,
           21,
           22,
           22,
           22,
           23,
           23,
           23,
           40,
           40,
           40,
           41,
           41,
           41,
           42,
           42,
           42,
           36,
           36,
           36,
           37,
           37,
           37,
           38,
           38,
           38,
           39,
           39,
           39
          ],
          "target": [
           2,
           3,
           4,
           5,
           6,
           7,
           8,
           9,
           10,
           29,
           14,
           16,
           17,
           18,
           25,
           26,
           27,
           28,
           30,
           32,
           31,
           33,
           12,
           34,
           35,
           43,
           44,
           15,
           11,
           24,
           13,
           19,
           20,
           21,
           22,
           23,
           40,
           41,
           42,
           36,
           37,
           38,
           39,
           45,
           46,
           47,
           45,
           46,
           47,
           45,
           46,
           47,
           45,
           46,
           47,
           45,
           46,
           47,
           45,
           46,
           47,
           45,
           46,
           47,
           45,
           46,
           47,
           45,
           46,
           47,
           45,
           46,
           47,
           45,
           46,
           47,
           45,
           46,
           47,
           45,
           46,
           47,
           45,
           46,
           47,
           45,
           46,
           47,
           45,
           46,
           47,
           45,
           46,
           47,
           45,
           46,
           47,
           45,
           46,
           47,
           45,
           46,
           47,
           45,
           46,
           47,
           45,
           46,
           47,
           45,
           46,
           47,
           45,
           46,
           47,
           45,
           46,
           47,
           45,
           46,
           47,
           45,
           46,
           47,
           45,
           46,
           47,
           45,
           46,
           47,
           45,
           46,
           47,
           45,
           46,
           47,
           45,
           46,
           47,
           45,
           46,
           47,
           45,
           46,
           47
          ],
          "value": [
           68,
           64,
           27,
           53,
           48,
           39,
           127,
           29,
           44,
           11,
           45,
           12,
           33,
           31,
           7,
           9,
           2,
           9,
           2,
           2,
           6,
           1,
           15,
           18,
           9,
           3,
           35,
           4,
           6,
           27,
           12,
           22,
           11,
           45,
           23,
           26,
           6,
           10,
           13,
           10,
           11,
           10,
           13,
           4,
           6,
           1,
           21,
           14,
           10,
           4,
           4,
           4,
           8,
           15,
           10,
           12,
           13,
           6,
           0.5,
           5,
           2,
           1,
           6,
           2,
           1,
           1,
           0.1,
           1,
           5,
           3,
           1,
           0.1,
           1,
           0.1,
           2,
           0.1,
           1,
           5,
           0.1,
           0.1,
           1,
           0.1,
           2,
           11,
           2,
           10,
           6,
           2,
           4,
           3,
           2,
           1,
           1,
           1,
           10,
           13,
           12,
           1,
           3,
           0.1,
           1,
           5,
           0.1,
           8,
           14,
           5,
           1,
           7,
           4,
           2,
           15,
           5,
           2,
           6,
           3,
           18,
           10,
           17,
           3,
           11,
           9,
           5,
           14,
           7,
           3,
           3,
           0.1,
           3,
           3,
           4,
           5,
           6,
           2,
           4,
           4,
           2,
           5,
           6,
           0.1,
           4,
           6,
           0.1,
           8,
           3,
           2
          ]
         },
         "node": {
          "label": [
           "Human factors",
           "External factors",
           "H₁ Safety management issues",
           "H₂ Perception errors",
           "H₃ Violation of operating procedures",
           "H₄ Decision-making errors",
           "H₅ Human factors",
           "H₆ Improper crew arrangement",
           "H₇ Inadequate voyage planning",
           "E₁ Ship equipment factors",
           "E₂ Environmental factors",
           "R₁",
           "R₂",
           "R₃",
           "R₄",
           "R₅",
           "R₆",
           "R₇",
           "R₈",
           "R₉",
           "R₁₀",
           "R₁₁",
           "R₁₂",
           "R₁₃",
           "R₁₄",
           "R₁₅",
           "R₁₆",
           "R₁₇",
           "R₁₈",
           "R₁₉",
           "R₂₀",
           "R₂₁",
           "R₂₂",
           "R₂₃",
           "R₂₄",
           "R₂₅",
           "R₂₆",
           "R₂₇",
           "R₂₈",
           "R₂₉",
           "R₃₀",
           "R₃₁",
           "R₃₂",
           "R₃₃",
           "R₃₄",
           "S₁",
           "S₂",
           "S₃"
          ],
          "line": {
           "color": "black",
           "width": 0.5
          },
          "pad": 205,
          "thickness": 30
         },
         "type": "sankey"
        }
       ],
       "layout": {
        "font": {
         "family": "Times New Roman",
         "size": 14
        },
        "height": 800,
        "paper_bgcolor": "white",
        "template": {
         "data": {
          "bar": [
           {
            "error_x": {
             "color": "#2a3f5f"
            },
            "error_y": {
             "color": "#2a3f5f"
            },
            "marker": {
             "line": {
              "color": "#E5ECF6",
              "width": 0.5
             },
             "pattern": {
              "fillmode": "overlay",
              "size": 10,
              "solidity": 0.2
             }
            },
            "type": "bar"
           }
          ],
          "barpolar": [
           {
            "marker": {
             "line": {
              "color": "#E5ECF6",
              "width": 0.5
             },
             "pattern": {
              "fillmode": "overlay",
              "size": 10,
              "solidity": 0.2
             }
            },
            "type": "barpolar"
           }
          ],
          "carpet": [
           {
            "aaxis": {
             "endlinecolor": "#2a3f5f",
             "gridcolor": "white",
             "linecolor": "white",
             "minorgridcolor": "white",
             "startlinecolor": "#2a3f5f"
            },
            "baxis": {
             "endlinecolor": "#2a3f5f",
             "gridcolor": "white",
             "linecolor": "white",
             "minorgridcolor": "white",
             "startlinecolor": "#2a3f5f"
            },
            "type": "carpet"
           }
          ],
          "choropleth": [
           {
            "colorbar": {
             "outlinewidth": 0,
             "ticks": ""
            },
            "type": "choropleth"
           }
          ],
          "contour": [
           {
            "colorbar": {
             "outlinewidth": 0,
             "ticks": ""
            },
            "colorscale": [
             [
              0,
              "#0d0887"
             ],
             [
              0.1111111111111111,
              "#46039f"
             ],
             [
              0.2222222222222222,
              "#7201a8"
             ],
             [
              0.3333333333333333,
              "#9c179e"
             ],
             [
              0.4444444444444444,
              "#bd3786"
             ],
             [
              0.5555555555555556,
              "#d8576b"
             ],
             [
              0.6666666666666666,
              "#ed7953"
             ],
             [
              0.7777777777777778,
              "#fb9f3a"
             ],
             [
              0.8888888888888888,
              "#fdca26"
             ],
             [
              1,
              "#f0f921"
             ]
            ],
            "type": "contour"
           }
          ],
          "contourcarpet": [
           {
            "colorbar": {
             "outlinewidth": 0,
             "ticks": ""
            },
            "type": "contourcarpet"
           }
          ],
          "heatmap": [
           {
            "colorbar": {
             "outlinewidth": 0,
             "ticks": ""
            },
            "colorscale": [
             [
              0,
              "#0d0887"
             ],
             [
              0.1111111111111111,
              "#46039f"
             ],
             [
              0.2222222222222222,
              "#7201a8"
             ],
             [
              0.3333333333333333,
              "#9c179e"
             ],
             [
              0.4444444444444444,
              "#bd3786"
             ],
             [
              0.5555555555555556,
              "#d8576b"
             ],
             [
              0.6666666666666666,
              "#ed7953"
             ],
             [
              0.7777777777777778,
              "#fb9f3a"
             ],
             [
              0.8888888888888888,
              "#fdca26"
             ],
             [
              1,
              "#f0f921"
             ]
            ],
            "type": "heatmap"
           }
          ],
          "heatmapgl": [
           {
            "colorbar": {
             "outlinewidth": 0,
             "ticks": ""
            },
            "colorscale": [
             [
              0,
              "#0d0887"
             ],
             [
              0.1111111111111111,
              "#46039f"
             ],
             [
              0.2222222222222222,
              "#7201a8"
             ],
             [
              0.3333333333333333,
              "#9c179e"
             ],
             [
              0.4444444444444444,
              "#bd3786"
             ],
             [
              0.5555555555555556,
              "#d8576b"
             ],
             [
              0.6666666666666666,
              "#ed7953"
             ],
             [
              0.7777777777777778,
              "#fb9f3a"
             ],
             [
              0.8888888888888888,
              "#fdca26"
             ],
             [
              1,
              "#f0f921"
             ]
            ],
            "type": "heatmapgl"
           }
          ],
          "histogram": [
           {
            "marker": {
             "pattern": {
              "fillmode": "overlay",
              "size": 10,
              "solidity": 0.2
             }
            },
            "type": "histogram"
           }
          ],
          "histogram2d": [
           {
            "colorbar": {
             "outlinewidth": 0,
             "ticks": ""
            },
            "colorscale": [
             [
              0,
              "#0d0887"
             ],
             [
              0.1111111111111111,
              "#46039f"
             ],
             [
              0.2222222222222222,
              "#7201a8"
             ],
             [
              0.3333333333333333,
              "#9c179e"
             ],
             [
              0.4444444444444444,
              "#bd3786"
             ],
             [
              0.5555555555555556,
              "#d8576b"
             ],
             [
              0.6666666666666666,
              "#ed7953"
             ],
             [
              0.7777777777777778,
              "#fb9f3a"
             ],
             [
              0.8888888888888888,
              "#fdca26"
             ],
             [
              1,
              "#f0f921"
             ]
            ],
            "type": "histogram2d"
           }
          ],
          "histogram2dcontour": [
           {
            "colorbar": {
             "outlinewidth": 0,
             "ticks": ""
            },
            "colorscale": [
             [
              0,
              "#0d0887"
             ],
             [
              0.1111111111111111,
              "#46039f"
             ],
             [
              0.2222222222222222,
              "#7201a8"
             ],
             [
              0.3333333333333333,
              "#9c179e"
             ],
             [
              0.4444444444444444,
              "#bd3786"
             ],
             [
              0.5555555555555556,
              "#d8576b"
             ],
             [
              0.6666666666666666,
              "#ed7953"
             ],
             [
              0.7777777777777778,
              "#fb9f3a"
             ],
             [
              0.8888888888888888,
              "#fdca26"
             ],
             [
              1,
              "#f0f921"
             ]
            ],
            "type": "histogram2dcontour"
           }
          ],
          "mesh3d": [
           {
            "colorbar": {
             "outlinewidth": 0,
             "ticks": ""
            },
            "type": "mesh3d"
           }
          ],
          "parcoords": [
           {
            "line": {
             "colorbar": {
              "outlinewidth": 0,
              "ticks": ""
             }
            },
            "type": "parcoords"
           }
          ],
          "pie": [
           {
            "automargin": true,
            "type": "pie"
           }
          ],
          "scatter": [
           {
            "fillpattern": {
             "fillmode": "overlay",
             "size": 10,
             "solidity": 0.2
            },
            "type": "scatter"
           }
          ],
          "scatter3d": [
           {
            "line": {
             "colorbar": {
              "outlinewidth": 0,
              "ticks": ""
             }
            },
            "marker": {
             "colorbar": {
              "outlinewidth": 0,
              "ticks": ""
             }
            },
            "type": "scatter3d"
           }
          ],
          "scattercarpet": [
           {
            "marker": {
             "colorbar": {
              "outlinewidth": 0,
              "ticks": ""
             }
            },
            "type": "scattercarpet"
           }
          ],
          "scattergeo": [
           {
            "marker": {
             "colorbar": {
              "outlinewidth": 0,
              "ticks": ""
             }
            },
            "type": "scattergeo"
           }
          ],
          "scattergl": [
           {
            "marker": {
             "colorbar": {
              "outlinewidth": 0,
              "ticks": ""
             }
            },
            "type": "scattergl"
           }
          ],
          "scattermapbox": [
           {
            "marker": {
             "colorbar": {
              "outlinewidth": 0,
              "ticks": ""
             }
            },
            "type": "scattermapbox"
           }
          ],
          "scatterpolar": [
           {
            "marker": {
             "colorbar": {
              "outlinewidth": 0,
              "ticks": ""
             }
            },
            "type": "scatterpolar"
           }
          ],
          "scatterpolargl": [
           {
            "marker": {
             "colorbar": {
              "outlinewidth": 0,
              "ticks": ""
             }
            },
            "type": "scatterpolargl"
           }
          ],
          "scatterternary": [
           {
            "marker": {
             "colorbar": {
              "outlinewidth": 0,
              "ticks": ""
             }
            },
            "type": "scatterternary"
           }
          ],
          "surface": [
           {
            "colorbar": {
             "outlinewidth": 0,
             "ticks": ""
            },
            "colorscale": [
             [
              0,
              "#0d0887"
             ],
             [
              0.1111111111111111,
              "#46039f"
             ],
             [
              0.2222222222222222,
              "#7201a8"
             ],
             [
              0.3333333333333333,
              "#9c179e"
             ],
             [
              0.4444444444444444,
              "#bd3786"
             ],
             [
              0.5555555555555556,
              "#d8576b"
             ],
             [
              0.6666666666666666,
              "#ed7953"
             ],
             [
              0.7777777777777778,
              "#fb9f3a"
             ],
             [
              0.8888888888888888,
              "#fdca26"
             ],
             [
              1,
              "#f0f921"
             ]
            ],
            "type": "surface"
           }
          ],
          "table": [
           {
            "cells": {
             "fill": {
              "color": "#EBF0F8"
             },
             "line": {
              "color": "white"
             }
            },
            "header": {
             "fill": {
              "color": "#C8D4E3"
             },
             "line": {
              "color": "white"
             }
            },
            "type": "table"
           }
          ]
         },
         "layout": {
          "annotationdefaults": {
           "arrowcolor": "#2a3f5f",
           "arrowhead": 0,
           "arrowwidth": 1
          },
          "autotypenumbers": "strict",
          "coloraxis": {
           "colorbar": {
            "outlinewidth": 0,
            "ticks": ""
           }
          },
          "colorscale": {
           "diverging": [
            [
             0,
             "#8e0152"
            ],
            [
             0.1,
             "#c51b7d"
            ],
            [
             0.2,
             "#de77ae"
            ],
            [
             0.3,
             "#f1b6da"
            ],
            [
             0.4,
             "#fde0ef"
            ],
            [
             0.5,
             "#f7f7f7"
            ],
            [
             0.6,
             "#e6f5d0"
            ],
            [
             0.7,
             "#b8e186"
            ],
            [
             0.8,
             "#7fbc41"
            ],
            [
             0.9,
             "#4d9221"
            ],
            [
             1,
             "#276419"
            ]
           ],
           "sequential": [
            [
             0,
             "#0d0887"
            ],
            [
             0.1111111111111111,
             "#46039f"
            ],
            [
             0.2222222222222222,
             "#7201a8"
            ],
            [
             0.3333333333333333,
             "#9c179e"
            ],
            [
             0.4444444444444444,
             "#bd3786"
            ],
            [
             0.5555555555555556,
             "#d8576b"
            ],
            [
             0.6666666666666666,
             "#ed7953"
            ],
            [
             0.7777777777777778,
             "#fb9f3a"
            ],
            [
             0.8888888888888888,
             "#fdca26"
            ],
            [
             1,
             "#f0f921"
            ]
           ],
           "sequentialminus": [
            [
             0,
             "#0d0887"
            ],
            [
             0.1111111111111111,
             "#46039f"
            ],
            [
             0.2222222222222222,
             "#7201a8"
            ],
            [
             0.3333333333333333,
             "#9c179e"
            ],
            [
             0.4444444444444444,
             "#bd3786"
            ],
            [
             0.5555555555555556,
             "#d8576b"
            ],
            [
             0.6666666666666666,
             "#ed7953"
            ],
            [
             0.7777777777777778,
             "#fb9f3a"
            ],
            [
             0.8888888888888888,
             "#fdca26"
            ],
            [
             1,
             "#f0f921"
            ]
           ]
          },
          "colorway": [
           "#636efa",
           "#EF553B",
           "#00cc96",
           "#ab63fa",
           "#FFA15A",
           "#19d3f3",
           "#FF6692",
           "#B6E880",
           "#FF97FF",
           "#FECB52"
          ],
          "font": {
           "color": "#2a3f5f"
          },
          "geo": {
           "bgcolor": "white",
           "lakecolor": "white",
           "landcolor": "#E5ECF6",
           "showlakes": true,
           "showland": true,
           "subunitcolor": "white"
          },
          "hoverlabel": {
           "align": "left"
          },
          "hovermode": "closest",
          "mapbox": {
           "style": "light"
          },
          "paper_bgcolor": "white",
          "plot_bgcolor": "#E5ECF6",
          "polar": {
           "angularaxis": {
            "gridcolor": "white",
            "linecolor": "white",
            "ticks": ""
           },
           "bgcolor": "#E5ECF6",
           "radialaxis": {
            "gridcolor": "white",
            "linecolor": "white",
            "ticks": ""
           }
          },
          "scene": {
           "xaxis": {
            "backgroundcolor": "#E5ECF6",
            "gridcolor": "white",
            "gridwidth": 2,
            "linecolor": "white",
            "showbackground": true,
            "ticks": "",
            "zerolinecolor": "white"
           },
           "yaxis": {
            "backgroundcolor": "#E5ECF6",
            "gridcolor": "white",
            "gridwidth": 2,
            "linecolor": "white",
            "showbackground": true,
            "ticks": "",
            "zerolinecolor": "white"
           },
           "zaxis": {
            "backgroundcolor": "#E5ECF6",
            "gridcolor": "white",
            "gridwidth": 2,
            "linecolor": "white",
            "showbackground": true,
            "ticks": "",
            "zerolinecolor": "white"
           }
          },
          "shapedefaults": {
           "line": {
            "color": "#2a3f5f"
           }
          },
          "ternary": {
           "aaxis": {
            "gridcolor": "white",
            "linecolor": "white",
            "ticks": ""
           },
           "baxis": {
            "gridcolor": "white",
            "linecolor": "white",
            "ticks": ""
           },
           "bgcolor": "#E5ECF6",
           "caxis": {
            "gridcolor": "white",
            "linecolor": "white",
            "ticks": ""
           }
          },
          "title": {
           "x": 0.05
          },
          "xaxis": {
           "automargin": true,
           "gridcolor": "white",
           "linecolor": "white",
           "ticks": "",
           "title": {
            "standoff": 15
           },
           "zerolinecolor": "white",
           "zerolinewidth": 2
          },
          "yaxis": {
           "automargin": true,
           "gridcolor": "white",
           "linecolor": "white",
           "ticks": "",
           "title": {
            "standoff": 15
           },
           "zerolinecolor": "white",
           "zerolinewidth": 2
          }
         }
        },
        "width": 1000
       }
      }
     },
     "metadata": {},
     "output_type": "display_data"
    }
   ],
   "source": [
    "###ok了  \n",
    "### 最终\n",
    "\n",
    "\n",
    "import plotly.graph_objects as go\n",
    "\n",
    "# 定义节点标签（IS 编号使用 Unicode 下标）\n",
    "\n",
    "nodes = [\n",
    "    \"Human factors\",\"External factors\", \n",
    "    \"H₁ Safety management issues\", \"H₂ Perception errors\", \n",
    "    \"H₃ Violation of operating procedures\", \"H₄ Decision-making errors\", \n",
    "    \"H₅ Human factors\", \"H₆ Improper crew arrangement\", \n",
    "    \"H₇ Inadequate voyage planning\", \"E₁ Ship equipment factors\", \n",
    "    \"E₂ Environmental factors\",\"R₁\", \"R₂\", \"R₃\", \"R₄\", \"R₅\", \"R₆\", \n",
    "    \"R₇\", \"R₈\", \"R₉\", \"R₁₀\", \"R₁₁\", \"R₁₂\", \"R₁₃\", \"R₁₄\", \"R₁₅\", \"R₁₆\",\n",
    "    \"R₁₇\", \"R₁₈\", \"R₁₉\", \"R₂₀\", \"R₂₁\", \"R₂₂\", \"R₂₃\", \"R₂₄\", \"R₂₅\", \n",
    "    \"R₂₆\", \"R₂₇\", \"R₂₈\", \"R₂₉\", \"R₃₀\", \"R₃₁\", \"R₃₂\", \"R₃₃\", \"R₃₄\",\n",
    "    \"S₁\", \"S₂\", \"S₃\"\n",
    "\n",
    "]\n",
    "\n",
    "\n",
    "# 定义连接的来源（source）和目标（target）索引\n",
    "links = {\n",
    "    \"source\": [\n",
    "        # 第一层到第二层\n",
    "        0, 0, 0, 0, 0, 0, 0, 1, 1,\n",
    "        # 第二层到第三层\n",
    "        2, 2, 2, 3, 3, \n",
    "        4, 4, 4, 4, 5, 5, 5, 5, 5, 5, 5,\n",
    "        6, 6, 6, 6, 7, 7, \n",
    "        8,8,8,8,8, 9,9,9,\n",
    "        10, 10, 10,10,\n",
    "        # 第三层到第四层（每个R节点依次连接到S1/S2/S3）\n",
    "        # R19,14,6 -> S1/S2/S3\n",
    "        29, 29, 29, 14, 14, 14, 16, 16, 16,\n",
    "        # R7,8 -> S1/S2/S3\n",
    "        17, 17, 17, 18, 18, 18,\n",
    "        # R15,16,17,18 -> S1/S2/S3\n",
    "        25, 25, 25, 26, 26, 26, 27, 27, 27, 28, 28, 28,\n",
    "        # R20,2,21,23,2,24,25 -> S1/S2/S3\n",
    "        30, 30, 30, 32, 32, 32, 31, 31, 31, 33, 33, 33, 12, 12, 12,  34, 34, 34, 35, 35, 35,  \n",
    "        # R33,34,5,1 -> S1/S2/S3\n",
    "        43, 43, 43, 44, 44, 44, 15, 15, 15, 11, 11, 11,\n",
    "        24, 24, 24, 13, 13, 13,\n",
    "        19, 19, 19, 20, 20, 20, 21, 21, 21, 22, 22, 22, 23, 23, 23,\n",
    "        40, 40, 40, 41, 41, 41, 42, 42, 42, \n",
    "        36, 36, 36, 37, 37, 37, 38, 38, 38, 39, 39, 39\n",
    "     ],\n",
    "    \"target\": [\n",
    "        # 第一层到第二层\n",
    "        2, 3, 4, 5, 6, 7, 8, 9,10,\n",
    "        # 第二层到第三层\n",
    "        29,14,16,\n",
    "        17,18,\n",
    "        25,26,27,28,\n",
    "        30,32,31,33,12,34,35,\n",
    "        43,44,15,11,\n",
    "        24,13,\n",
    "        19,20,21,22,23,\n",
    "        40,41,42,\n",
    "        36,37,38,39,\n",
    "        # 第三层到第四层\n",
    "        45, 46, 47,\n",
    "        45, 46, 47,\n",
    "        45, 46, 47,\n",
    "        45, 46, 47,\n",
    "        45, 46, 47,\n",
    "        45, 46, 47,\n",
    "        45, 46, 47,\n",
    "        45, 46, 47,\n",
    "        45, 46, 47,\n",
    "        45, 46, 47,\n",
    "        45, 46, 47,\n",
    "        45, 46, 47,\n",
    "        45, 46, 47,\n",
    "        45, 46, 47,\n",
    "        45, 46, 47,\n",
    "        45, 46, 47,\n",
    "        45, 46, 47,\n",
    "        45, 46, 47,\n",
    "        45, 46, 47,\n",
    "        45, 46, 47,\n",
    "        45, 46, 47,\n",
    "        45, 46, 47,\n",
    "        45, 46, 47,\n",
    "        45, 46, 47,\n",
    "        45, 46, 47,\n",
    "        45, 46, 47,\n",
    "        45, 46, 47,\n",
    "        45, 46, 47,\n",
    "        45, 46, 47,\n",
    "        45, 46, 47,\n",
    "        45, 46, 47,\n",
    "        45, 46, 47,\n",
    "        45, 46, 47,\n",
    "        45, 46, 47\n",
    "        \n",
    "    # ] + sum([[45, 46, 47] for _ in range(9, 43)], []),\n",
    "    ],\n",
    "    #### 切记，value的值中不能为0，如果为0，则会不连线，会出现错误\n",
    "    \"value\": [\n",
    "        # 第一层到第二层 --需更新\n",
    "        68, 64, 27, 53, 48, 39, 127, 29, 44,\n",
    "        # 第二层到第三层--需更新\n",
    "        11, 45, 12, \n",
    "        33, 31,\n",
    "        7, 9, 2, 9, \n",
    "        2, 2, 6, 1, 15, 18, 9,\n",
    "        3, 35, 4, 6,\n",
    "        27, 12,\n",
    "        22, 11, 45, 23, 26,\n",
    "        6, 10, 13,\n",
    "        10, 11, 10, 13,\n",
    "        # 第三层到第四层（S1, S2, S3）\n",
    "        4,6,1,\n",
    "        21,14,10,\n",
    "        4,4,4,\n",
    "        8,15,10,\n",
    "        12,13,6,\n",
    "        0.5,5,2,\n",
    "        1,6,2,\n",
    "        1,1,0.1,\n",
    "        1,5,3,\n",
    "        1,0.1,1,\n",
    "        0.1,2, 0.1,\n",
    "        1, 5, 0.1,\n",
    "        0.1, 1, 0.1,\n",
    "        2, 11, 2,\n",
    "        10, 6, 2, \n",
    "        4, 3, 2,  \n",
    "        1, 1, 1,\n",
    "        10, 13, 12,\n",
    "        1, 3, 0.1,\n",
    "        1, 5, 0.1, \n",
    "        8, 14, 5, \n",
    "        1, 7, 4, \n",
    "        2, 15, 5, \n",
    "        2, 6, 3, \n",
    "        18, 10, 17, \n",
    "        3, 11, 9, \n",
    "        5, 14, 7, \n",
    "        3, 3, 0.1, \n",
    "        3, 3, 4, \n",
    "        5, 6, 2, \n",
    "        4, 4, 2, \n",
    "        5, 6, 0.1, \n",
    "        4, 6, 0.1, \n",
    "        8, 3, 2\n",
    "\n",
    "\n",
    "    ]\n",
    "}\n",
    "\n",
    "link_colors = []\n",
    "for s, t in zip(links[\"source\"], links[\"target\"]):\n",
    " if s <2: # 第一层到第二层 \n",
    "   link_colors.append(\"rgba(0,255,200,0.5)\")\n",
    " elif s <11: # 第二层到第三层 \n",
    "   link_colors.append(\"rgba(0,255,0,0.5)\")\n",
    " else: # 第三层到第四层 \n",
    "   link_colors.append(\"rgba(0,0,200,0.3)\")\n",
    "# 创建桑基图\n",
    "fig = go.Figure(go.Sankey(\n",
    "    node=dict(\n",
    "        pad=205,  # 增大间距，避免压盖\n",
    "        thickness=30,  # 调整节点厚度\n",
    "        line=dict(color=\"black\", width=0.5),\n",
    "        label=nodes\n",
    "    ),\n",
    "    link=dict(\n",
    "        source=links[\"source\"],\n",
    "        target=links[\"target\"],\n",
    "        value=links[\"value\"],\n",
    "        color=link_colors  # 设置淡蓝色，透明度50%\n",
    "    )\n",
    "))\n",
    "\n",
    "# 设置布局\n",
    "fig.update_layout(\n",
    "    # title_text=\"Four-layer Sankey Diagram with Adjusted Node Spacing\",\n",
    "    font_size=12,\n",
    "    paper_bgcolor=\"white\",\n",
    "    width=1000,  # 增加图的宽度\n",
    "    height=800,   # 可适当调整高度\n",
    "    font=dict(family=\"Times New Roman\", size=14)  # 字体大小\n",
    ")\n",
    "# 保存 PDF\n",
    "fig.write_image(\"搁浅-桑基图.pdf\", engine='kaleido',scale= 1.5)\n",
    "# 显示图表\n",
    "fig.show()\n"
   ]
  },
  {
   "cell_type": "code",
   "execution_count": null,
   "metadata": {},
   "outputs": [],
   "source": []
  }
 ],
 "metadata": {
  "kernelspec": {
   "display_name": "graph",
   "language": "python",
   "name": "python3"
  },
  "language_info": {
   "codemirror_mode": {
    "name": "ipython",
    "version": 3
   },
   "file_extension": ".py",
   "mimetype": "text/x-python",
   "name": "python",
   "nbconvert_exporter": "python",
   "pygments_lexer": "ipython3",
   "version": "3.12.3"
  }
 },
 "nbformat": 4,
 "nbformat_minor": 2
}
