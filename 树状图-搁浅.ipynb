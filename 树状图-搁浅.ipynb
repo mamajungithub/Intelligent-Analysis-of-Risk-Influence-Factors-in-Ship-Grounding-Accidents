{
 "cells": [
  {
   "cell_type": "code",
   "execution_count": 5,
   "metadata": {},
   "outputs": [
    {
     "data": {
      "application/vnd.plotly.v1+json": {
       "config": {
        "plotlyServerURL": "https://plot.ly"
       },
       "data": [
        {
         "branchvalues": "total",
         "customdata": [
          [
           11
          ],
          [
           45
          ],
          [
           23
          ],
          [
           26
          ],
          [
           27
          ],
          [
           7
          ],
          [
           9
          ],
          [
           2
          ],
          [
           9
          ],
          [
           11
          ],
          [
           6
          ],
          [
           2
          ],
          [
           6
          ],
          [
           2
          ],
          [
           1
          ],
          [
           18
          ],
          [
           9
          ],
          [
           10
          ],
          [
           11
          ],
          [
           10
          ],
          [
           13
          ],
          [
           15
          ],
          [
           6
          ],
          [
           10
          ],
          [
           13
          ],
          [
           3
          ],
          [
           35
          ],
          [
           12
          ],
          [
           45
          ],
          [
           4
          ],
          [
           12
          ],
          [
           33
          ],
          [
           31
          ],
          [
           22
          ],
          [
           73
          ],
          [
           80
          ],
          [
           41
          ],
          [
           10.89041095890411
          ],
          [
           26.347417840375588
          ],
          [
           69.12371134020619
          ]
         ],
         "domain": {
          "x": [
           0,
           1
          ],
          "y": [
           0,
           1
          ]
         },
         "hovertemplate": "labels=%{label}<br>Values_sum=%{value}<br>parent=%{parent}<br>id=%{id}<br>Values=%{color}<extra></extra>",
         "ids": [
          "Human factors/R<sub>10</sub>",
          "Human factors/R<sub>11</sub>",
          "Human factors/R<sub>12</sub>",
          "Human factors/R<sub>13</sub>",
          "Human factors/R<sub>14</sub>",
          "Human factors/R<sub>15</sub>",
          "Human factors/R<sub>16</sub>",
          "Human factors/R<sub>17</sub>",
          "Human factors/R<sub>18</sub>",
          "Human factors/R<sub>19</sub>",
          "Human factors/R<sub>1</sub>",
          "Human factors/R<sub>20</sub>",
          "Human factors/R<sub>21</sub>",
          "Human factors/R<sub>22</sub>",
          "Human factors/R<sub>23</sub>",
          "Human factors/R<sub>24</sub>",
          "Human factors/R<sub>25</sub>",
          "External factors/R<sub>26</sub>",
          "External factors/R<sub>27</sub>",
          "External factors/R<sub>28</sub>",
          "External factors/R<sub>29</sub>",
          "Human factors/R<sub>2</sub>",
          "External factors/R<sub>30</sub>",
          "External factors/R<sub>31</sub>",
          "External factors/R<sub>32</sub>",
          "Human factors/R<sub>33</sub>",
          "Human factors/R<sub>34</sub>",
          "Human factors/R<sub>3</sub>",
          "Human factors/R<sub>4</sub>",
          "Human factors/R<sub>5</sub>",
          "Human factors/R<sub>6</sub>",
          "Human factors/R<sub>7</sub>",
          "Human factors/R<sub>8</sub>",
          "Human factors/R<sub>9</sub>",
          "Severity grade/S<sub>1</sub>",
          "Severity grade/S<sub>2</sub>",
          "Severity grade/S<sub>3</sub>",
          "External factors",
          "Human factors",
          "Severity grade"
         ],
         "labels": [
          "R<sub>10</sub>",
          "R<sub>11</sub>",
          "R<sub>12</sub>",
          "R<sub>13</sub>",
          "R<sub>14</sub>",
          "R<sub>15</sub>",
          "R<sub>16</sub>",
          "R<sub>17</sub>",
          "R<sub>18</sub>",
          "R<sub>19</sub>",
          "R<sub>1</sub>",
          "R<sub>20</sub>",
          "R<sub>21</sub>",
          "R<sub>22</sub>",
          "R<sub>23</sub>",
          "R<sub>24</sub>",
          "R<sub>25</sub>",
          "R<sub>26</sub>",
          "R<sub>27</sub>",
          "R<sub>28</sub>",
          "R<sub>29</sub>",
          "R<sub>2</sub>",
          "R<sub>30</sub>",
          "R<sub>31</sub>",
          "R<sub>32</sub>",
          "R<sub>33</sub>",
          "R<sub>34</sub>",
          "R<sub>3</sub>",
          "R<sub>4</sub>",
          "R<sub>5</sub>",
          "R<sub>6</sub>",
          "R<sub>7</sub>",
          "R<sub>8</sub>",
          "R<sub>9</sub>",
          "S<sub>1</sub>",
          "S<sub>2</sub>",
          "S<sub>3</sub>",
          "External factors",
          "Human factors",
          "Severity grade"
         ],
         "marker": {
          "coloraxis": "coloraxis",
          "colors": [
           11,
           45,
           23,
           26,
           27,
           7,
           9,
           2,
           9,
           11,
           6,
           2,
           6,
           2,
           1,
           18,
           9,
           10,
           11,
           10,
           13,
           15,
           6,
           10,
           13,
           3,
           35,
           12,
           45,
           4,
           12,
           33,
           31,
           22,
           73,
           80,
           41,
           10.89041095890411,
           26.347417840375588,
           69.12371134020619
          ]
         },
         "name": "",
         "parents": [
          "Human factors",
          "Human factors",
          "Human factors",
          "Human factors",
          "Human factors",
          "Human factors",
          "Human factors",
          "Human factors",
          "Human factors",
          "Human factors",
          "Human factors",
          "Human factors",
          "Human factors",
          "Human factors",
          "Human factors",
          "Human factors",
          "Human factors",
          "External factors",
          "External factors",
          "External factors",
          "External factors",
          "Human factors",
          "External factors",
          "External factors",
          "External factors",
          "Human factors",
          "Human factors",
          "Human factors",
          "Human factors",
          "Human factors",
          "Human factors",
          "Human factors",
          "Human factors",
          "Human factors",
          "Severity grade",
          "Severity grade",
          "Severity grade",
          "",
          "",
          ""
         ],
         "type": "treemap",
         "values": [
          11,
          45,
          23,
          26,
          27,
          7,
          9,
          2,
          9,
          11,
          6,
          2,
          6,
          2,
          1,
          18,
          9,
          10,
          11,
          10,
          13,
          15,
          6,
          10,
          13,
          3,
          35,
          12,
          45,
          4,
          12,
          33,
          31,
          22,
          73,
          80,
          41,
          73,
          426,
          194
         ]
        }
       ],
       "layout": {
        "coloraxis": {
         "colorbar": {
          "len": 0.7,
          "thickness": 20,
          "title": {
           "text": "Frequency"
          },
          "y": 0.5,
          "yanchor": "middle"
         },
         "colorscale": [
          [
           0,
           "rgb(5,48,97)"
          ],
          [
           0.1,
           "rgb(33,102,172)"
          ],
          [
           0.2,
           "rgb(67,147,195)"
          ],
          [
           0.3,
           "rgb(146,197,222)"
          ],
          [
           0.4,
           "rgb(209,229,240)"
          ],
          [
           0.5,
           "rgb(247,247,247)"
          ],
          [
           0.6,
           "rgb(253,219,199)"
          ],
          [
           0.7,
           "rgb(244,165,130)"
          ],
          [
           0.8,
           "rgb(214,96,77)"
          ],
          [
           0.9,
           "rgb(178,24,43)"
          ],
          [
           1,
           "rgb(103,0,31)"
          ]
         ]
        },
        "font": {
         "family": "Times New Roman",
         "size": 14
        },
        "legend": {
         "tracegroupgap": 0
        },
        "margin": {
         "b": 0,
         "l": 0,
         "r": 0,
         "t": 30
        },
        "paper_bgcolor": "white",
        "plot_bgcolor": "white",
        "template": {
         "data": {
          "bar": [
           {
            "error_x": {
             "color": "rgb(36,36,36)"
            },
            "error_y": {
             "color": "rgb(36,36,36)"
            },
            "marker": {
             "line": {
              "color": "white",
              "width": 0.5
             },
             "pattern": {
              "fillmode": "overlay",
              "size": 10,
              "solidity": 0.2
             }
            },
            "type": "bar"
           }
          ],
          "barpolar": [
           {
            "marker": {
             "line": {
              "color": "white",
              "width": 0.5
             },
             "pattern": {
              "fillmode": "overlay",
              "size": 10,
              "solidity": 0.2
             }
            },
            "type": "barpolar"
           }
          ],
          "carpet": [
           {
            "aaxis": {
             "endlinecolor": "rgb(36,36,36)",
             "gridcolor": "white",
             "linecolor": "white",
             "minorgridcolor": "white",
             "startlinecolor": "rgb(36,36,36)"
            },
            "baxis": {
             "endlinecolor": "rgb(36,36,36)",
             "gridcolor": "white",
             "linecolor": "white",
             "minorgridcolor": "white",
             "startlinecolor": "rgb(36,36,36)"
            },
            "type": "carpet"
           }
          ],
          "choropleth": [
           {
            "colorbar": {
             "outlinewidth": 1,
             "tickcolor": "rgb(36,36,36)",
             "ticks": "outside"
            },
            "type": "choropleth"
           }
          ],
          "contour": [
           {
            "colorbar": {
             "outlinewidth": 1,
             "tickcolor": "rgb(36,36,36)",
             "ticks": "outside"
            },
            "colorscale": [
             [
              0,
              "#440154"
             ],
             [
              0.1111111111111111,
              "#482878"
             ],
             [
              0.2222222222222222,
              "#3e4989"
             ],
             [
              0.3333333333333333,
              "#31688e"
             ],
             [
              0.4444444444444444,
              "#26828e"
             ],
             [
              0.5555555555555556,
              "#1f9e89"
             ],
             [
              0.6666666666666666,
              "#35b779"
             ],
             [
              0.7777777777777778,
              "#6ece58"
             ],
             [
              0.8888888888888888,
              "#b5de2b"
             ],
             [
              1,
              "#fde725"
             ]
            ],
            "type": "contour"
           }
          ],
          "contourcarpet": [
           {
            "colorbar": {
             "outlinewidth": 1,
             "tickcolor": "rgb(36,36,36)",
             "ticks": "outside"
            },
            "type": "contourcarpet"
           }
          ],
          "heatmap": [
           {
            "colorbar": {
             "outlinewidth": 1,
             "tickcolor": "rgb(36,36,36)",
             "ticks": "outside"
            },
            "colorscale": [
             [
              0,
              "#440154"
             ],
             [
              0.1111111111111111,
              "#482878"
             ],
             [
              0.2222222222222222,
              "#3e4989"
             ],
             [
              0.3333333333333333,
              "#31688e"
             ],
             [
              0.4444444444444444,
              "#26828e"
             ],
             [
              0.5555555555555556,
              "#1f9e89"
             ],
             [
              0.6666666666666666,
              "#35b779"
             ],
             [
              0.7777777777777778,
              "#6ece58"
             ],
             [
              0.8888888888888888,
              "#b5de2b"
             ],
             [
              1,
              "#fde725"
             ]
            ],
            "type": "heatmap"
           }
          ],
          "heatmapgl": [
           {
            "colorbar": {
             "outlinewidth": 1,
             "tickcolor": "rgb(36,36,36)",
             "ticks": "outside"
            },
            "colorscale": [
             [
              0,
              "#440154"
             ],
             [
              0.1111111111111111,
              "#482878"
             ],
             [
              0.2222222222222222,
              "#3e4989"
             ],
             [
              0.3333333333333333,
              "#31688e"
             ],
             [
              0.4444444444444444,
              "#26828e"
             ],
             [
              0.5555555555555556,
              "#1f9e89"
             ],
             [
              0.6666666666666666,
              "#35b779"
             ],
             [
              0.7777777777777778,
              "#6ece58"
             ],
             [
              0.8888888888888888,
              "#b5de2b"
             ],
             [
              1,
              "#fde725"
             ]
            ],
            "type": "heatmapgl"
           }
          ],
          "histogram": [
           {
            "marker": {
             "line": {
              "color": "white",
              "width": 0.6
             }
            },
            "type": "histogram"
           }
          ],
          "histogram2d": [
           {
            "colorbar": {
             "outlinewidth": 1,
             "tickcolor": "rgb(36,36,36)",
             "ticks": "outside"
            },
            "colorscale": [
             [
              0,
              "#440154"
             ],
             [
              0.1111111111111111,
              "#482878"
             ],
             [
              0.2222222222222222,
              "#3e4989"
             ],
             [
              0.3333333333333333,
              "#31688e"
             ],
             [
              0.4444444444444444,
              "#26828e"
             ],
             [
              0.5555555555555556,
              "#1f9e89"
             ],
             [
              0.6666666666666666,
              "#35b779"
             ],
             [
              0.7777777777777778,
              "#6ece58"
             ],
             [
              0.8888888888888888,
              "#b5de2b"
             ],
             [
              1,
              "#fde725"
             ]
            ],
            "type": "histogram2d"
           }
          ],
          "histogram2dcontour": [
           {
            "colorbar": {
             "outlinewidth": 1,
             "tickcolor": "rgb(36,36,36)",
             "ticks": "outside"
            },
            "colorscale": [
             [
              0,
              "#440154"
             ],
             [
              0.1111111111111111,
              "#482878"
             ],
             [
              0.2222222222222222,
              "#3e4989"
             ],
             [
              0.3333333333333333,
              "#31688e"
             ],
             [
              0.4444444444444444,
              "#26828e"
             ],
             [
              0.5555555555555556,
              "#1f9e89"
             ],
             [
              0.6666666666666666,
              "#35b779"
             ],
             [
              0.7777777777777778,
              "#6ece58"
             ],
             [
              0.8888888888888888,
              "#b5de2b"
             ],
             [
              1,
              "#fde725"
             ]
            ],
            "type": "histogram2dcontour"
           }
          ],
          "mesh3d": [
           {
            "colorbar": {
             "outlinewidth": 1,
             "tickcolor": "rgb(36,36,36)",
             "ticks": "outside"
            },
            "type": "mesh3d"
           }
          ],
          "parcoords": [
           {
            "line": {
             "colorbar": {
              "outlinewidth": 1,
              "tickcolor": "rgb(36,36,36)",
              "ticks": "outside"
             }
            },
            "type": "parcoords"
           }
          ],
          "pie": [
           {
            "automargin": true,
            "type": "pie"
           }
          ],
          "scatter": [
           {
            "fillpattern": {
             "fillmode": "overlay",
             "size": 10,
             "solidity": 0.2
            },
            "type": "scatter"
           }
          ],
          "scatter3d": [
           {
            "line": {
             "colorbar": {
              "outlinewidth": 1,
              "tickcolor": "rgb(36,36,36)",
              "ticks": "outside"
             }
            },
            "marker": {
             "colorbar": {
              "outlinewidth": 1,
              "tickcolor": "rgb(36,36,36)",
              "ticks": "outside"
             }
            },
            "type": "scatter3d"
           }
          ],
          "scattercarpet": [
           {
            "marker": {
             "colorbar": {
              "outlinewidth": 1,
              "tickcolor": "rgb(36,36,36)",
              "ticks": "outside"
             }
            },
            "type": "scattercarpet"
           }
          ],
          "scattergeo": [
           {
            "marker": {
             "colorbar": {
              "outlinewidth": 1,
              "tickcolor": "rgb(36,36,36)",
              "ticks": "outside"
             }
            },
            "type": "scattergeo"
           }
          ],
          "scattergl": [
           {
            "marker": {
             "colorbar": {
              "outlinewidth": 1,
              "tickcolor": "rgb(36,36,36)",
              "ticks": "outside"
             }
            },
            "type": "scattergl"
           }
          ],
          "scattermapbox": [
           {
            "marker": {
             "colorbar": {
              "outlinewidth": 1,
              "tickcolor": "rgb(36,36,36)",
              "ticks": "outside"
             }
            },
            "type": "scattermapbox"
           }
          ],
          "scatterpolar": [
           {
            "marker": {
             "colorbar": {
              "outlinewidth": 1,
              "tickcolor": "rgb(36,36,36)",
              "ticks": "outside"
             }
            },
            "type": "scatterpolar"
           }
          ],
          "scatterpolargl": [
           {
            "marker": {
             "colorbar": {
              "outlinewidth": 1,
              "tickcolor": "rgb(36,36,36)",
              "ticks": "outside"
             }
            },
            "type": "scatterpolargl"
           }
          ],
          "scatterternary": [
           {
            "marker": {
             "colorbar": {
              "outlinewidth": 1,
              "tickcolor": "rgb(36,36,36)",
              "ticks": "outside"
             }
            },
            "type": "scatterternary"
           }
          ],
          "surface": [
           {
            "colorbar": {
             "outlinewidth": 1,
             "tickcolor": "rgb(36,36,36)",
             "ticks": "outside"
            },
            "colorscale": [
             [
              0,
              "#440154"
             ],
             [
              0.1111111111111111,
              "#482878"
             ],
             [
              0.2222222222222222,
              "#3e4989"
             ],
             [
              0.3333333333333333,
              "#31688e"
             ],
             [
              0.4444444444444444,
              "#26828e"
             ],
             [
              0.5555555555555556,
              "#1f9e89"
             ],
             [
              0.6666666666666666,
              "#35b779"
             ],
             [
              0.7777777777777778,
              "#6ece58"
             ],
             [
              0.8888888888888888,
              "#b5de2b"
             ],
             [
              1,
              "#fde725"
             ]
            ],
            "type": "surface"
           }
          ],
          "table": [
           {
            "cells": {
             "fill": {
              "color": "rgb(237,237,237)"
             },
             "line": {
              "color": "white"
             }
            },
            "header": {
             "fill": {
              "color": "rgb(217,217,217)"
             },
             "line": {
              "color": "white"
             }
            },
            "type": "table"
           }
          ]
         },
         "layout": {
          "annotationdefaults": {
           "arrowhead": 0,
           "arrowwidth": 1
          },
          "autotypenumbers": "strict",
          "coloraxis": {
           "colorbar": {
            "outlinewidth": 1,
            "tickcolor": "rgb(36,36,36)",
            "ticks": "outside"
           }
          },
          "colorscale": {
           "diverging": [
            [
             0,
             "rgb(103,0,31)"
            ],
            [
             0.1,
             "rgb(178,24,43)"
            ],
            [
             0.2,
             "rgb(214,96,77)"
            ],
            [
             0.3,
             "rgb(244,165,130)"
            ],
            [
             0.4,
             "rgb(253,219,199)"
            ],
            [
             0.5,
             "rgb(247,247,247)"
            ],
            [
             0.6,
             "rgb(209,229,240)"
            ],
            [
             0.7,
             "rgb(146,197,222)"
            ],
            [
             0.8,
             "rgb(67,147,195)"
            ],
            [
             0.9,
             "rgb(33,102,172)"
            ],
            [
             1,
             "rgb(5,48,97)"
            ]
           ],
           "sequential": [
            [
             0,
             "#440154"
            ],
            [
             0.1111111111111111,
             "#482878"
            ],
            [
             0.2222222222222222,
             "#3e4989"
            ],
            [
             0.3333333333333333,
             "#31688e"
            ],
            [
             0.4444444444444444,
             "#26828e"
            ],
            [
             0.5555555555555556,
             "#1f9e89"
            ],
            [
             0.6666666666666666,
             "#35b779"
            ],
            [
             0.7777777777777778,
             "#6ece58"
            ],
            [
             0.8888888888888888,
             "#b5de2b"
            ],
            [
             1,
             "#fde725"
            ]
           ],
           "sequentialminus": [
            [
             0,
             "#440154"
            ],
            [
             0.1111111111111111,
             "#482878"
            ],
            [
             0.2222222222222222,
             "#3e4989"
            ],
            [
             0.3333333333333333,
             "#31688e"
            ],
            [
             0.4444444444444444,
             "#26828e"
            ],
            [
             0.5555555555555556,
             "#1f9e89"
            ],
            [
             0.6666666666666666,
             "#35b779"
            ],
            [
             0.7777777777777778,
             "#6ece58"
            ],
            [
             0.8888888888888888,
             "#b5de2b"
            ],
            [
             1,
             "#fde725"
            ]
           ]
          },
          "colorway": [
           "#1F77B4",
           "#FF7F0E",
           "#2CA02C",
           "#D62728",
           "#9467BD",
           "#8C564B",
           "#E377C2",
           "#7F7F7F",
           "#BCBD22",
           "#17BECF"
          ],
          "font": {
           "color": "rgb(36,36,36)"
          },
          "geo": {
           "bgcolor": "white",
           "lakecolor": "white",
           "landcolor": "white",
           "showlakes": true,
           "showland": true,
           "subunitcolor": "white"
          },
          "hoverlabel": {
           "align": "left"
          },
          "hovermode": "closest",
          "mapbox": {
           "style": "light"
          },
          "paper_bgcolor": "white",
          "plot_bgcolor": "white",
          "polar": {
           "angularaxis": {
            "gridcolor": "rgb(232,232,232)",
            "linecolor": "rgb(36,36,36)",
            "showgrid": false,
            "showline": true,
            "ticks": "outside"
           },
           "bgcolor": "white",
           "radialaxis": {
            "gridcolor": "rgb(232,232,232)",
            "linecolor": "rgb(36,36,36)",
            "showgrid": false,
            "showline": true,
            "ticks": "outside"
           }
          },
          "scene": {
           "xaxis": {
            "backgroundcolor": "white",
            "gridcolor": "rgb(232,232,232)",
            "gridwidth": 2,
            "linecolor": "rgb(36,36,36)",
            "showbackground": true,
            "showgrid": false,
            "showline": true,
            "ticks": "outside",
            "zeroline": false,
            "zerolinecolor": "rgb(36,36,36)"
           },
           "yaxis": {
            "backgroundcolor": "white",
            "gridcolor": "rgb(232,232,232)",
            "gridwidth": 2,
            "linecolor": "rgb(36,36,36)",
            "showbackground": true,
            "showgrid": false,
            "showline": true,
            "ticks": "outside",
            "zeroline": false,
            "zerolinecolor": "rgb(36,36,36)"
           },
           "zaxis": {
            "backgroundcolor": "white",
            "gridcolor": "rgb(232,232,232)",
            "gridwidth": 2,
            "linecolor": "rgb(36,36,36)",
            "showbackground": true,
            "showgrid": false,
            "showline": true,
            "ticks": "outside",
            "zeroline": false,
            "zerolinecolor": "rgb(36,36,36)"
           }
          },
          "shapedefaults": {
           "fillcolor": "black",
           "line": {
            "width": 0
           },
           "opacity": 0.3
          },
          "ternary": {
           "aaxis": {
            "gridcolor": "rgb(232,232,232)",
            "linecolor": "rgb(36,36,36)",
            "showgrid": false,
            "showline": true,
            "ticks": "outside"
           },
           "baxis": {
            "gridcolor": "rgb(232,232,232)",
            "linecolor": "rgb(36,36,36)",
            "showgrid": false,
            "showline": true,
            "ticks": "outside"
           },
           "bgcolor": "white",
           "caxis": {
            "gridcolor": "rgb(232,232,232)",
            "linecolor": "rgb(36,36,36)",
            "showgrid": false,
            "showline": true,
            "ticks": "outside"
           }
          },
          "title": {
           "x": 0.05
          },
          "xaxis": {
           "automargin": true,
           "gridcolor": "rgb(232,232,232)",
           "linecolor": "rgb(36,36,36)",
           "showgrid": false,
           "showline": true,
           "ticks": "outside",
           "title": {
            "standoff": 15
           },
           "zeroline": false,
           "zerolinecolor": "rgb(36,36,36)"
          },
          "yaxis": {
           "automargin": true,
           "gridcolor": "rgb(232,232,232)",
           "linecolor": "rgb(36,36,36)",
           "showgrid": false,
           "showline": true,
           "ticks": "outside",
           "title": {
            "standoff": 15
           },
           "zeroline": false,
           "zerolinecolor": "rgb(36,36,36)"
          }
         }
        }
       }
      }
     },
     "metadata": {},
     "output_type": "display_data"
    }
   ],
   "source": [
    "import plotly.express as px\n",
    "import pandas as pd\n",
    "import plotly.io as pio\n",
    "\n",
    "# 禁用默认主题\n",
    "pio.templates.default = 'simple_white'\n",
    "\n",
    "# 修复后的数据，使用HTML标签为下标\n",
    "data = {\n",
    "    \"Category\": (\n",
    "        [\"External factors\"] * 7 + \n",
    "        [\"Human factors\"] * 27 + \n",
    "        [\"Severity grade\"] * 3\n",
    "    ),\n",
    "    \"Labels\": [\n",
    "        'R<sub>30</sub>', 'R<sub>31</sub>', 'R<sub>32</sub>', 'R<sub>26</sub>', 'R<sub>27</sub>', 'R<sub>28</sub>',\n",
    "        'R<sub>29</sub>',  # External factors\n",
    "        'R<sub>19</sub>', 'R<sub>4</sub>', 'R<sub>6</sub>', 'R<sub>7</sub>', 'R<sub>8</sub>', \n",
    "        'R<sub>15</sub>', 'R<sub>16</sub>', 'R<sub>17</sub>', \n",
    "        'R<sub>18</sub>', 'R<sub>20</sub>', 'R<sub>22</sub>', 'R<sub>21</sub>', 'R<sub>23</sub>', \n",
    "        'R<sub>2</sub>', 'R<sub>24</sub>', 'R<sub>25</sub>', 'R<sub>33</sub>', 'R<sub>34</sub>', \n",
    "        'R<sub>5</sub>','R<sub>1</sub>','R<sub>14</sub>', 'R<sub>3</sub>', 'R<sub>9</sub>',\n",
    "        'R<sub>10</sub>','R<sub>11</sub>','R<sub>12</sub>','R<sub>13</sub>',# Human factors (continued)\n",
    "        'S<sub>1</sub>', 'S<sub>2</sub>', 'S<sub>3</sub>'  # Severity grade\n",
    "    ],\n",
    "    \"Values\": [\n",
    "        6, 10, 13, 10, 11, 10, 13,  # External factors\n",
    "        11, 45, 12, 33, 31, 7, 9, 2, 9, 2, 2, 6, 1, 15, 18, 9,\n",
    "        3, 35, 4, 6, 27, 12, 22, 11, 45, 23, 26,   # Human factors\n",
    "        73, 80, 41                    # Severity grade\n",
    "    ]\n",
    "}\n",
    "\n",
    "# 创建 DataFrame\n",
    "df = pd.DataFrame(data)\n",
    "\n",
    "# 检查数据长度是否一致\n",
    "assert len(df[\"Category\"]) == len(df[\"Labels\"]) == len(df[\"Values\"]), \"列长度不一致\"\n",
    "\n",
    "# 绘制 Treemap\n",
    "fig = px.treemap(\n",
    "    df, \n",
    "    path=[\"Category\", \"Labels\"],  # 两层嵌套路径\n",
    "    values=\"Values\",  # 数据值\n",
    "    color=\"Values\",  # 按值着色\n",
    "    color_continuous_scale=\"RdBu_r\"  # 渐变色\n",
    ")\n",
    "\n",
    "# 设置布局\n",
    "fig.update_layout(\n",
    "    paper_bgcolor=\"white\",  # 背景为白色\n",
    "    plot_bgcolor=\"white\",  # 图表区域背景为白色\n",
    "    margin=dict(t=30, l=0, r=0, b=0),  # 设置边距\n",
    "    coloraxis_colorbar=dict(\n",
    "        title=\"Frequency\",  # 色条标题\n",
    "        thickness=20,  # 色条宽度\n",
    "        len=0.7,  # 色条长度\n",
    "        y=0.5,  # 色条位置\n",
    "        yanchor=\"middle\"\n",
    "    ),\n",
    "    font=dict(family=\"Times New Roman\", size=14)  # 字体大小\n",
    ")\n",
    "\n",
    "# 保存 PDF\n",
    "fig.write_image(\"搁浅-树形图last.pdf\", engine='kaleido')\n",
    "\n",
    "# 显示图表\n",
    "fig.show()\n"
   ]
  },
  {
   "cell_type": "code",
   "execution_count": null,
   "metadata": {},
   "outputs": [],
   "source": []
  }
 ],
 "metadata": {
  "kernelspec": {
   "display_name": "graph",
   "language": "python",
   "name": "python3"
  },
  "language_info": {
   "codemirror_mode": {
    "name": "ipython",
    "version": 3
   },
   "file_extension": ".py",
   "mimetype": "text/x-python",
   "name": "python",
   "nbconvert_exporter": "python",
   "pygments_lexer": "ipython3",
   "version": "3.12.3"
  }
 },
 "nbformat": 4,
 "nbformat_minor": 2
}
